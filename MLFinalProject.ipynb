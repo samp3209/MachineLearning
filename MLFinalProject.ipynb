{
  "nbformat": 4,
  "nbformat_minor": 0,
  "metadata": {
    "colab": {
      "name": "MLFinalProject.ipynb",
      "provenance": [],
      "collapsed_sections": [
        "pBYyxh3lWcr4"
      ],
      "authorship_tag": "ABX9TyNBwF/rSHWWei3YiR6DAZ5l",
      "include_colab_link": true
    },
    "kernelspec": {
      "name": "python3",
      "display_name": "Python 3"
    },
    "language_info": {
      "name": "python"
    }
  },
  "cells": [
    {
      "cell_type": "markdown",
      "metadata": {
        "id": "view-in-github",
        "colab_type": "text"
      },
      "source": [
        "<a href=\"https://colab.research.google.com/github/samp3209/MachineLearning/blob/main/MLFinalProject.ipynb\" target=\"_parent\"><img src=\"https://colab.research.google.com/assets/colab-badge.svg\" alt=\"Open In Colab\"/></a>"
      ]
    },
    {
      "cell_type": "markdown",
      "source": [
        "# Imports\n"
      ],
      "metadata": {
        "id": "lgkiFfJlWKkx"
      }
    },
    {
      "cell_type": "code",
      "execution_count": 851,
      "metadata": {
        "id": "OU8W-PqygdUn"
      },
      "outputs": [],
      "source": [
        "import pandas as pd\n",
        "import numpy as np\n",
        "import sklearn\n",
        "import seaborn as sns\n",
        "import matplotlib.pyplot as plt\n",
        "from sklearn.linear_model import SGDRegressor\n",
        "from sklearn.linear_model import LinearRegression\n",
        "from sklearn.neighbors import KNeighborsRegressor\n",
        "from sklearn import preprocessing\n",
        "from sklearn.metrics import mean_squared_error\n",
        "from sklearn.metrics import mean_absolute_error\n",
        "from numpy import random\n",
        "from sklearn.model_selection import train_test_split\n",
        "from sklearn.metrics import mean_absolute_percentage_error\n",
        "from scipy.stats import pearsonr\n",
        "from scipy.stats import spearmanr\n",
        "from sklearn.pipeline import make_pipeline\n",
        "from sklearn.ensemble import GradientBoostingRegressor\n",
        "from sklearn.decomposition import PCA\n",
        "from sklearn.metrics import mean_absolute_percentage_error\n",
        "from sklearn.metrics import r2_score\n",
        "from sklearn import datasets\n",
        "from sklearn.preprocessing import StandardScaler"
      ]
    },
    {
      "cell_type": "code",
      "source": [
        "df = pd.read_csv('property.csv')\n"
      ],
      "metadata": {
        "id": "9mDYCKvEkWfQ"
      },
      "execution_count": 852,
      "outputs": []
    },
    {
      "cell_type": "markdown",
      "source": [
        "# Data Fixing"
      ],
      "metadata": {
        "id": "zL2KiRTUYuO5"
      }
    },
    {
      "cell_type": "code",
      "source": [
        "#Shrinking the pnd column to have smallest amount of unique values\n",
        "df['PrimaryNeighborhoodDescription'].unique()\n",
        "pndlist = []\n",
        "for i in df['PrimaryNeighborhoodDescription']:\n",
        "  if i == 'south end':\n",
        "    pndlist.append('SO.END')\n",
        "  elif i == 'southern end':\n",
        "    pndlist.append('south end')\n",
        "  elif i == 'NEW NO END':\n",
        "    pndlist.append('new north end')\n",
        "  elif i == 'SO HILL SECT':\n",
        "    pndlist.append('southern hill')\n",
        "  elif i == 'DOWNTOWN':\n",
        "    pndlist.append('downtown')\n",
        "  elif i == 'UNIV HILL':\n",
        "    pndlist.append('UVM hill area')\n",
        "  elif i == 'OLD NO END':\n",
        "    pndlist.append('old north end')\n",
        "  else:\n",
        "    pndlist.append(i)\n",
        "\n",
        "df['PrimaryNeighborhoodDescription'] = pndlist\n",
        "df['PrimaryNeighborhoodDescription'].unique()"
      ],
      "metadata": {
        "colab": {
          "base_uri": "https://localhost:8080/"
        },
        "id": "Sld5NzV9dS_W",
        "outputId": "17b225d7-1d48-4f66-8a74-f5743a53951a"
      },
      "execution_count": 853,
      "outputs": [
        {
          "output_type": "execute_result",
          "data": {
            "text/plain": [
              "array(['new north end', 'INTERVALE', 'old north end', 'NRTH AVE EXT',\n",
              "       'NNE MIDRANGE', 'NNE WATERVIEW', 'NNE Small Complex',\n",
              "       'NNE BASE COMPLEX', 'waterfront', 'Starr Farm Beach', '0',\n",
              "       'WATERFRONT', 'lakeview tr', 'DWT SMALL COMPLEX', 'northern hill',\n",
              "       'RIVERSIDE AV', 'NORTH ST', 'DWT WATERVIEW', 'DWT MIDRANGE',\n",
              "       'DWT BASE COMPLEX', 'CBD', 'DOWNTN APTS', 'HILL APTS',\n",
              "       'CHURCH ST MK', 'downtown', 'southern hill', 'UVM hill area',\n",
              "       'UVM CAMPUS', 'SO.END', 'south end', 'DWT MID LEVEL',\n",
              "       'SE SAMLL COMPLEX', 'SE MIDRANGE', 'INDUSTRIAL P', 'SHELBURNE ST',\n",
              "       'DWT HIGH END', 'SE WATERFRONT', 'SE BASE COMPLEX', 'SE HIGN END',\n",
              "       'DWT MED/HIGH END', 'RCO ZONE', 'EAST AVENUE'], dtype=object)"
            ]
          },
          "metadata": {},
          "execution_count": 853
        }
      ]
    },
    {
      "cell_type": "code",
      "source": [
        "#Fixing LastSaleDate and StoryHeight Columns\n",
        "#df.dtypes\n",
        "df['YearBuilt'] = df['YearBuilt'].fillna(0).astype(int)\n",
        "df['LastSaleDate'] = pd.to_datetime(df['LastSaleDate'])\n",
        "df.dtypes\n",
        "#df['StoryHeight'].unique()\n",
        "story = []\n",
        "\n",
        "for i in df['StoryHeight']:\n",
        "\n",
        "  if i == 'Two Sty':\n",
        "    story.append('2')\n",
        "    \n",
        "  elif i== 'One Sty':\n",
        "    story.append('1')\n",
        "    \n",
        "  elif i == 'Three Sty':\n",
        "    story.append('3')\n",
        "    \n",
        "  elif i == 'Four Sty':\n",
        "    story.append('4')\n",
        "    \n",
        "  elif i == 'Five Sty':\n",
        "    story.append('5')\n",
        "    \n",
        "  elif i == 'Six Sty':\n",
        "    story.append('6')\n",
        "    \n",
        "  elif i == '9 Story':\n",
        "    story.append('9')\n",
        "  \n",
        "  elif i == '4 story':\n",
        "    story.append('4')\n",
        "    \n",
        "  elif i == '4 Story':\n",
        "    story.append('4')\n",
        "   \n",
        "  elif i == '7 Story':\n",
        "    story.append('7')\n",
        "    \n",
        "  elif i == '6 Story':\n",
        "    story.append('6')\n",
        "    \n",
        "  elif i == '5 Stories':\n",
        "    story.append('5')\n",
        "   \n",
        "  elif i == '8 Story':\n",
        "    story.append('8')\n",
        "    \n",
        "  else:\n",
        "      story.append(i)\n",
        "df['StoryHeight'] = story\n",
        "df['StoryHeight'] = df['StoryHeight'].astype(float)\n",
        "df['StoryHeight']\n",
        "#story"
      ],
      "metadata": {
        "colab": {
          "base_uri": "https://localhost:8080/"
        },
        "id": "B5wy15aKYxPM",
        "outputId": "c9207439-3e52-49e4-f4a8-1c85c9f428ad"
      },
      "execution_count": 854,
      "outputs": [
        {
          "output_type": "execute_result",
          "data": {
            "text/plain": [
              "0        1.50\n",
              "1         NaN\n",
              "2        1.50\n",
              "3        2.00\n",
              "4        1.75\n",
              "         ... \n",
              "11403    1.00\n",
              "11404    1.00\n",
              "11405    1.00\n",
              "11406    4.00\n",
              "11407    1.00\n",
              "Name: StoryHeight, Length: 11408, dtype: float64"
            ]
          },
          "metadata": {},
          "execution_count": 854
        }
      ]
    },
    {
      "cell_type": "code",
      "source": [
        "#fixing number columns to remove unneccessary characters\n",
        "df['BuildingValue'] = df['BuildingValue'].astype(str)\n",
        "df['BuildingValue'] = df['BuildingValue'].str.replace(',','')\n",
        "df['BuildingValue'] = df['BuildingValue'].str.replace('$','')\n",
        "df['BuildingValue'] = df['BuildingValue'].astype(float)\n",
        "######\n",
        "df['LandValue'] = df['LandValue'].astype(str)\n",
        "df['LandValue'] = df['LandValue'].str.replace(',','')\n",
        "df['LandValue'] = df['LandValue'].str.replace('$','')\n",
        "df['LandValue'] = df['LandValue'].astype(float)\n",
        "######\n",
        "\n",
        "########\n",
        "df['LastSaleAmount'] = df['LastSaleAmount'].astype(str)\n",
        "df['LastSaleAmount'] = df['LastSaleAmount'].str.replace(',','')\n",
        "df['LastSaleAmount'] = df['LastSaleAmount'].str.replace('$','')\n",
        "df['LastSaleAmount'] = df['LastSaleAmount'].astype(float)\n",
        "########\n",
        "#square feet removal\n",
        "########\n",
        "df['LotSqFeet'] = df['LotSqFeet'].astype(str)\n",
        "df['LotSqFeet'] = df['LotSqFeet'].str.replace(' sqft','')\n",
        "df['LotSqFeet'] = df['LotSqFeet'].str.replace(',','')\n",
        "df['LotSqFeet'] = df['LotSqFeet'].astype(int)\n",
        "#########\n",
        "df['BuildingGrossAreaSF'] = df['BuildingGrossAreaSF'].astype(str)\n",
        "df['BuildingGrossAreaSF'] = df['BuildingGrossAreaSF'].str.replace(' sqft','')\n",
        "df['BuildingGrossAreaSF'] = df['BuildingGrossAreaSF'].str.replace(',','')\n",
        "df['BuildingGrossAreaSF'] = df['BuildingGrossAreaSF'].astype(int)\n",
        "#########\n",
        "#########\n",
        "df['BuildingFinishedSf'] = df['BuildingFinishedSf'].astype(str)\n",
        "df['BuildingFinishedSf'] = df['BuildingFinishedSf'].str.replace(' sqft','')\n",
        "df['BuildingFinishedSf'] = df['BuildingFinishedSf'].str.replace(',','')\n",
        "df['BuildingFinishedSf'] = df['BuildingFinishedSf'].astype(int)"
      ],
      "metadata": {
        "colab": {
          "base_uri": "https://localhost:8080/"
        },
        "id": "3FZggk9Hd6Hd",
        "outputId": "d3840b77-52e3-4580-d3d3-579b08e23fb6"
      },
      "execution_count": 855,
      "outputs": [
        {
          "output_type": "stream",
          "name": "stderr",
          "text": [
            "/usr/local/lib/python3.7/dist-packages/ipykernel_launcher.py:4: FutureWarning: The default value of regex will change from True to False in a future version. In addition, single character regular expressions will *not* be treated as literal strings when regex=True.\n",
            "  after removing the cwd from sys.path.\n",
            "/usr/local/lib/python3.7/dist-packages/ipykernel_launcher.py:9: FutureWarning: The default value of regex will change from True to False in a future version. In addition, single character regular expressions will *not* be treated as literal strings when regex=True.\n",
            "  if __name__ == '__main__':\n",
            "/usr/local/lib/python3.7/dist-packages/ipykernel_launcher.py:16: FutureWarning: The default value of regex will change from True to False in a future version. In addition, single character regular expressions will *not* be treated as literal strings when regex=True.\n",
            "  app.launch_new_instance()\n"
          ]
        }
      ]
    },
    {
      "cell_type": "code",
      "source": [
        "#Adding numeric scale to physical condition\n",
        "#print(df['PhysicalCondition'].unique())\n",
        "nums = []\n",
        "for i in df['PhysicalCondition']:\n",
        "  if i == 'Fair':\n",
        "    nums.append(1)\n",
        "  elif i == 'Fair-Avg':\n",
        "    nums.append(2)\n",
        "  elif i == 'Average':\n",
        "    nums.append(3)\n",
        "  elif i == 'Avg-Good':\n",
        "    nums.append(4)\n",
        "  elif i == 'Good':\n",
        "    nums.append(5)\n",
        "  elif i == 'Good-VG':\n",
        "    nums.append(6)\n",
        "  else:\n",
        "    nums.append(7)\n",
        "df['PhysicalCondition'] = nums\n",
        "df['PhysicalCondition'] = df['PhysicalCondition'].astype(int)\n",
        "df['PhysicalCondition'].sample(20)"
      ],
      "metadata": {
        "colab": {
          "base_uri": "https://localhost:8080/"
        },
        "id": "jzxsMUIHeAJI",
        "outputId": "8461c0ce-031b-4de6-ba1d-4279872a27ae"
      },
      "execution_count": 856,
      "outputs": [
        {
          "output_type": "execute_result",
          "data": {
            "text/plain": [
              "2334     3\n",
              "6484     4\n",
              "6543     3\n",
              "3053     7\n",
              "10424    5\n",
              "5206     3\n",
              "2815     3\n",
              "1449     3\n",
              "8004     5\n",
              "301      3\n",
              "10014    5\n",
              "6055     5\n",
              "3101     3\n",
              "8390     3\n",
              "10389    3\n",
              "10551    5\n",
              "7386     3\n",
              "8096     3\n",
              "3284     3\n",
              "2204     3\n",
              "Name: PhysicalCondition, dtype: int64"
            ]
          },
          "metadata": {},
          "execution_count": 856
        }
      ]
    },
    {
      "cell_type": "code",
      "source": [
        "quantitative = [f for f in df.columns if df.dtypes[f] != 'object']\n",
        "quantitative"
      ],
      "metadata": {
        "colab": {
          "base_uri": "https://localhost:8080/"
        },
        "id": "1BcrPDY3eWr7",
        "outputId": "fbe7a6ad-681a-4efd-de72-f94b271c9e7d"
      },
      "execution_count": 857,
      "outputs": [
        {
          "output_type": "execute_result",
          "data": {
            "text/plain": [
              "['PropertyId',\n",
              " 'LastSaleDate',\n",
              " 'LastSaleAmount',\n",
              " 'LotSqFeet',\n",
              " 'BuildingValue',\n",
              " 'LandValue',\n",
              " 'BuildingNo',\n",
              " 'YearBuilt',\n",
              " 'StoryHeight',\n",
              " 'BuildingGrossAreaSF',\n",
              " 'BuildingFinishedSf',\n",
              " 'TotalRooms',\n",
              " 'Bedrooms',\n",
              " 'FullBaths',\n",
              " 'HalfBaths',\n",
              " 'ResidentialUnits',\n",
              " 'CommercialUnits',\n",
              " 'PhysicalCondition',\n",
              " 'DepreciationPct']"
            ]
          },
          "metadata": {},
          "execution_count": 857
        }
      ]
    },
    {
      "cell_type": "code",
      "source": [
        "#dropping columns \n",
        "#df = df.drop(columns=['TaxParcelId', 'VermontSPAN', 'StreetAddressFormatted', 'PrimaryLandUseCode', 'FoundationType', 'Quality'])\n"
      ],
      "metadata": {
        "id": "FPAEL6XLfl_s"
      },
      "execution_count": 858,
      "outputs": []
    },
    {
      "cell_type": "markdown",
      "source": [
        "# Model Building"
      ],
      "metadata": {
        "id": "eMzruGZWg-nA"
      }
    },
    {
      "cell_type": "code",
      "source": [
        "df_numerics_only = df.select_dtypes(include=np.number)\n",
        "df_numerics_only = df_numerics_only.drop(columns=['BuildingValue'])"
      ],
      "metadata": {
        "id": "YRYCa4JJhi_3"
      },
      "execution_count": 859,
      "outputs": []
    },
    {
      "cell_type": "code",
      "source": [
        "#df_numerics_only.isnull().sum(axis = 0)"
      ],
      "metadata": {
        "id": "zvPDCQ6rnrBQ"
      },
      "execution_count": 860,
      "outputs": []
    },
    {
      "cell_type": "code",
      "source": [
        "#\n",
        "\n",
        "df_numerics_only['StoryHeight'] = df_numerics_only['StoryHeight'].fillna(1)\n",
        "df_numerics_only['ResidentialUnits'] =df_numerics_only['ResidentialUnits'].fillna(1)\n",
        "df_numerics_only['CommercialUnits'] =df_numerics_only['CommercialUnits'].fillna(1)\n",
        "#df_numerics_only['ResidentialUnits']"
      ],
      "metadata": {
        "id": "c0yikT0Qn8zu"
      },
      "execution_count": 861,
      "outputs": []
    },
    {
      "cell_type": "code",
      "source": [
        "#df_numerics_only.mean()"
      ],
      "metadata": {
        "id": "W0OOkzoJvQxb"
      },
      "execution_count": 862,
      "outputs": []
    },
    {
      "cell_type": "code",
      "source": [
        "#filling nans with the average\n",
        "df_numerics_only['LastSaleAmount'] = df_numerics_only['LastSaleAmount'].fillna(454221)"
      ],
      "metadata": {
        "id": "JS6rH7M5tdo0"
      },
      "execution_count": 863,
      "outputs": []
    },
    {
      "cell_type": "code",
      "source": [
        "scaled_features  = StandardScaler().fit_transform(df_numerics_only.values)\n",
        "df_numerics_only = pd.DataFrame(scaled_features, index=df_numerics_only.index, columns=df_numerics_only.columns)"
      ],
      "metadata": {
        "id": "ahaayCc4HXr4"
      },
      "execution_count": 864,
      "outputs": []
    },
    {
      "cell_type": "code",
      "source": [
        "#building model inputs\n",
        "Y = df['BuildingValue']\n",
        "Y = Y.values.reshape(-1, 1)\n",
        "Y = StandardScaler().fit_transform(Y)\n",
        "X = df_numerics_only\n",
        "X_train, X_test, Y_train, Y_test = train_test_split(X, Y, test_size=0.3)\n",
        "X_test=np.array(X_test)\n",
        "Y_test=np.array(Y_test)\n",
        "Y"
      ],
      "metadata": {
        "id": "iQDqH4x4qhT3",
        "colab": {
          "base_uri": "https://localhost:8080/"
        },
        "outputId": "c5a8dfab-6886-45b4-9e94-9c420c12f35a"
      },
      "execution_count": 865,
      "outputs": [
        {
          "output_type": "execute_result",
          "data": {
            "text/plain": [
              "array([[-0.00496577],\n",
              "       [-0.07251107],\n",
              "       [-0.06386065],\n",
              "       ...,\n",
              "       [-0.06969708],\n",
              "       [-0.04710934],\n",
              "       [-0.05032127]])"
            ]
          },
          "metadata": {},
          "execution_count": 865
        }
      ]
    },
    {
      "cell_type": "code",
      "source": [
        "#df_numerics_only['LastSaleAmount']"
      ],
      "metadata": {
        "id": "eFSOkU4kuiL2"
      },
      "execution_count": 866,
      "outputs": []
    },
    {
      "cell_type": "code",
      "source": [
        "#df['BuildingValue']"
      ],
      "metadata": {
        "id": "-U3RSbmWxKR2"
      },
      "execution_count": 867,
      "outputs": []
    },
    {
      "cell_type": "code",
      "source": [
        "#SGD Regressor\n",
        "n_iter=1000\n",
        "clf_ = SGDRegressor(max_iter=n_iter)\n",
        "#clf = KNeighborsRegressor(n_neighbors=1)\n",
        "#clf = LinearRegression()\n",
        "clf_.fit(X_train, Y_train)\n",
        "\n",
        "y_pred_sksgd=clf_.predict(X_test)\n",
        "plt.scatter(Y_test,y_pred_sksgd)\n",
        "plt.grid()\n",
        "plt.xlabel('Actual y')\n",
        "plt.ylabel('Predicted y')\n",
        "plt.title('Scatter plot from actual y and predicted y')\n",
        "plt.show()\n",
        "\n",
        "print('Mean Absolute percentage Error :',mean_absolute_percentage_error(Y_test, y_pred_sksgd))\n",
        "print('Mean Absolute Error :',mean_absolute_error(Y_test, y_pred_sksgd))\n",
        "print('r2 score is :', r2_score(Y_test, y_pred_sksgd))\n",
        "print('y is:', Y_test)\n",
        "print('predicted was:', y_pred_sksgd)\n",
        "print('score is:', clf_.score(X_test, Y_test))"
      ],
      "metadata": {
        "colab": {
          "base_uri": "https://localhost:8080/",
          "height": 645
        },
        "id": "uu1IwvcGh8Q-",
        "outputId": "5c5d527d-2d6d-4b5d-c58d-613c0b2e3978"
      },
      "execution_count": 868,
      "outputs": [
        {
          "output_type": "stream",
          "name": "stderr",
          "text": [
            "/usr/local/lib/python3.7/dist-packages/sklearn/utils/validation.py:993: DataConversionWarning: A column-vector y was passed when a 1d array was expected. Please change the shape of y to (n_samples, ), for example using ravel().\n",
            "  y = column_or_1d(y, warn=True)\n",
            "/usr/local/lib/python3.7/dist-packages/sklearn/base.py:451: UserWarning: X does not have valid feature names, but SGDRegressor was fitted with feature names\n",
            "  \"X does not have valid feature names, but\"\n"
          ]
        },
        {
          "output_type": "display_data",
          "data": {
            "text/plain": [
              "<Figure size 432x288 with 1 Axes>"
            ],
            "image/png": "[encoded data removed]"
          },
          "metadata": {
            "needs_background": "light"
          }
        },
        {
          "output_type": "stream",
          "name": "stdout",
          "text": [
            "Mean Absolute percentage Error : 6.933193065261127\n",
            "Mean Absolute Error : 0.21690767910778117\n",
            "r2 score is : 0.1082708967605237\n",
            "y is: [[-0.05766892]\n",
            " [-0.06062977]\n",
            " [-0.0597723 ]\n",
            " ...\n",
            " [-0.05780156]\n",
            " [-0.0559682 ]\n",
            " [-0.06119825]]\n",
            "predicted was: [-0.13069341 -0.14626051 -0.14898094 ... -0.17932086 -0.00382617\n",
            " -0.21421914]\n",
            "score is: 0.1082708967605237\n"
          ]
        },
        {
          "output_type": "stream",
          "name": "stderr",
          "text": [
            "/usr/local/lib/python3.7/dist-packages/sklearn/base.py:451: UserWarning: X does not have valid feature names, but SGDRegressor was fitted with feature names\n",
            "  \"X does not have valid feature names, but\"\n"
          ]
        }
      ]
    },
    {
      "cell_type": "markdown",
      "source": [
        "model performance is very low going to look at the correlation matrix now"
      ],
      "metadata": {
        "id": "1lbucq4CsQxj"
      }
    },
    {
      "cell_type": "markdown",
      "source": [
        "#Data Exploration"
      ],
      "metadata": {
        "id": "pBYyxh3lWcr4"
      }
    },
    {
      "cell_type": "code",
      "source": [
        "#correlation matrix\n",
        "corrdata = df_numerics_only\n",
        "corrdata['BuildingValue'] = df['BuildingValue']\n",
        "\n",
        "corr = corrdata.corr()\n",
        "sns.heatmap(corr)"
      ],
      "metadata": {
        "colab": {
          "base_uri": "https://localhost:8080/",
          "height": 0
        },
        "id": "H08zPWsiWiG2",
        "outputId": "ea5abd0d-5625-41d3-f769-3ab91ca5f093"
      },
      "execution_count": 869,
      "outputs": [
        {
          "output_type": "execute_result",
          "data": {
            "text/plain": [
              "<matplotlib.axes._subplots.AxesSubplot at 0x7f5b08cac310>"
            ]
          },
          "metadata": {},
          "execution_count": 869
        },
        {
          "output_type": "display_data",
          "data": {
            "text/plain": [
              "<Figure size 432x288 with 2 Axes>"
            ],
            "image/png": "[encoded data removed]"
          },
          "metadata": {
            "needs_background": "light"
          }
        }
      ]
    },
    {
      "cell_type": "markdown",
      "source": [
        "The correlation matrix is kind of difficult to read without feature reduction because a lot of the features have little to no correlation to the target variable building value. A lot of variables are highly correlated to eachother but not with the target variable. It is no wonder the model performed so poorly"
      ],
      "metadata": {
        "id": "1S8TX0S7rBOI"
      }
    },
    {
      "cell_type": "code",
      "source": [
        "cor_target = abs(corr[\"BuildingValue\"])\n",
        "#Selecting the 5 dimensions to build the optimal model\n",
        "relevant_features = cor_target[cor_target>0.33]\n",
        "relevant_features\n",
        "#buildingno, grossarea, finishedsf, half baths\n",
        "\n"
      ],
      "metadata": {
        "colab": {
          "base_uri": "https://localhost:8080/"
        },
        "id": "OMKMwAcS7ita",
        "outputId": "05179366-d940-4d28-99fb-e3d85fac4c70"
      },
      "execution_count": 870,
      "outputs": [
        {
          "output_type": "execute_result",
          "data": {
            "text/plain": [
              "BuildingNo             0.403770\n",
              "BuildingGrossAreaSF    0.459051\n",
              "BuildingFinishedSf     0.458151\n",
              "HalfBaths              0.387801\n",
              "BuildingValue          1.000000\n",
              "Name: BuildingValue, dtype: float64"
            ]
          },
          "metadata": {},
          "execution_count": 870
        }
      ]
    },
    {
      "cell_type": "markdown",
      "source": [
        "features chosen for the best correleation to the target variable\n",
        "I'm assuming that buildingNo correlates with some kind of location which would give us a correlation to price. "
      ],
      "metadata": {
        "id": "XnCPvGeCn23D"
      }
    },
    {
      "cell_type": "markdown",
      "source": [
        "# Model with selected features"
      ],
      "metadata": {
        "id": "gDA8-pnO_tyv"
      }
    },
    {
      "cell_type": "code",
      "source": [
        "X = df_numerics_only[['BuildingNo', 'BuildingGrossAreaSF', 'HalfBaths', 'BuildingFinishedSf']]"
      ],
      "metadata": {
        "id": "oCp8Tqj4_0gT"
      },
      "execution_count": 871,
      "outputs": []
    },
    {
      "cell_type": "code",
      "source": [
        ""
      ],
      "metadata": {
        "id": "AF_1DbW2iC-6"
      },
      "execution_count": 871,
      "outputs": []
    },
    {
      "cell_type": "code",
      "source": [
        "#Building input and scaling the data\n",
        "X_train, X_test, Y_train, Y_test = train_test_split(X, Y, test_size=0.3, random_state=42)\n",
        "X_test=np.array(X_test)\n",
        "Y_test=np.array(Y_test)\n",
        "X_train=np.array(X_train)\n",
        "Y_train = np.array(Y_train)"
      ],
      "metadata": {
        "id": "W4orLFA3A7fN"
      },
      "execution_count": 872,
      "outputs": []
    },
    {
      "cell_type": "code",
      "source": [
        ""
      ],
      "metadata": {
        "id": "xYTMC3KlHYld"
      },
      "execution_count": 872,
      "outputs": []
    },
    {
      "cell_type": "code",
      "source": [
        "#SGD Regressor\n",
        "n_iter=1000\n",
        "clf_ = SGDRegressor(max_iter=n_iter)\n",
        "#clf = KNeighborsRegressor(n_neighbors=1)\n",
        "#clf = LinearRegression()\n",
        "clf_.fit(X_train, Y_train)\n",
        "\n",
        "y_pred_sksgd=clf_.predict(X_test)\n",
        "plt.scatter(Y_test,y_pred_sksgd)\n",
        "plt.grid()\n",
        "plt.xlabel('Actual y')\n",
        "plt.ylabel('Predicted y')\n",
        "plt.title('Scatter plot from actual y and predicted y')\n",
        "plt.show()\n",
        "\n",
        "print('Mean Absolute percentage Error :',mean_absolute_percentage_error(Y_test, y_pred_sksgd))\n",
        "print('Mean Absolute Error :',mean_absolute_error(Y_test, y_pred_sksgd))\n",
        "print('r2 score is :', r2_score(Y_test, y_pred_sksgd))\n",
        "print('y is:', Y_test)\n",
        "print('predicted was:', y_pred_sksgd)\n",
        "print('score is:', clf_.score(X_test, Y_test))"
      ],
      "metadata": {
        "id": "EvZw0JrGBDnN",
        "outputId": "eebd7fa4-a282-497f-e0bd-6a1b78f25266",
        "colab": {
          "base_uri": "https://localhost:8080/",
          "height": 575
        }
      },
      "execution_count": 873,
      "outputs": [
        {
          "output_type": "stream",
          "name": "stderr",
          "text": [
            "/usr/local/lib/python3.7/dist-packages/sklearn/utils/validation.py:993: DataConversionWarning: A column-vector y was passed when a 1d array was expected. Please change the shape of y to (n_samples, ), for example using ravel().\n",
            "  y = column_or_1d(y, warn=True)\n"
          ]
        },
        {
          "output_type": "display_data",
          "data": {
            "text/plain": [
              "<Figure size 432x288 with 1 Axes>"
            ],
            "image/png": "[encoded data removed]"
          },
          "metadata": {
            "needs_background": "light"
          }
        },
        {
          "output_type": "stream",
          "name": "stdout",
          "text": [
            "Mean Absolute percentage Error : 2.5713754827223836\n",
            "Mean Absolute Error : 0.15513875196303634\n",
            "r2 score is : 0.3480309075974799\n",
            "y is: [[-0.05386482]\n",
            " [ 0.16214938]\n",
            " [-0.06195623]\n",
            " ...\n",
            " [ 0.03190037]\n",
            " [-0.05896222]\n",
            " [-0.06730471]]\n",
            "predicted was: [-0.11151728  0.94066058 -0.03050196 ...  0.65553445 -0.12787375\n",
            " -0.14698063]\n",
            "score is: 0.3480309075974799\n"
          ]
        }
      ]
    },
    {
      "cell_type": "code",
      "source": [
        "#Kernel Ridge Regression \n",
        "from sklearn.kernel_ridge import KernelRidge\n",
        "krr = KernelRidge(alpha=1.0)\n",
        "krr.fit(X_train,Y_train)\n",
        "y_pred_sksgd=krr.predict(X_test)\n",
        "plt.scatter(Y_test,y_pred_sksgd)\n",
        "plt.grid()\n",
        "plt.xlabel('Actual y')\n",
        "plt.ylabel('Predicted y')\n",
        "plt.title('Scatter plot from actual y and predicted y')\n",
        "plt.show()\n",
        "\n",
        "print('Mean Absolute percentage Error :',mean_absolute_percentage_error(Y_test, y_pred_sksgd))\n",
        "print('Mean Absolute Error :',mean_absolute_error(Y_test, y_pred_sksgd))\n",
        "print('r2 score is :', r2_score(Y_test, y_pred_sksgd))\n",
        "print('y is:', Y_test)\n",
        "print('predicted was:', y_pred_sksgd)\n",
        "print('score is:', krr.score(X_test, Y_test))"
      ],
      "metadata": {
        "colab": {
          "base_uri": "https://localhost:8080/",
          "height": 607
        },
        "id": "NnXn5qEvEqzH",
        "outputId": "99675a38-08da-4025-aa16-2fdb32881040"
      },
      "execution_count": 874,
      "outputs": [
        {
          "output_type": "display_data",
          "data": {
            "text/plain": [
              "<Figure size 432x288 with 1 Axes>"
            ],
            "image/png": "[encoded data removed]"
          },
          "metadata": {
            "needs_background": "light"
          }
        },
        {
          "output_type": "stream",
          "name": "stdout",
          "text": [
            "Mean Absolute percentage Error : 2.859983891841009\n",
            "Mean Absolute Error : 0.17455280089115333\n",
            "r2 score is : 0.36507715471122026\n",
            "y is: [[-0.05386482]\n",
            " [ 0.16214938]\n",
            " [-0.06195623]\n",
            " ...\n",
            " [ 0.03190037]\n",
            " [-0.05896222]\n",
            " [-0.06730471]]\n",
            "predicted was: [[-0.11290868]\n",
            " [ 0.95924918]\n",
            " [-0.06363216]\n",
            " ...\n",
            " [ 0.7649811 ]\n",
            " [-0.13840729]\n",
            " [-0.16882723]]\n",
            "score is: 0.36507715471122026\n"
          ]
        }
      ]
    },
    {
      "cell_type": "markdown",
      "source": [
        "After dimensional reduction we see a greater model performance with SDG regressor. By reducing the dimensions we are eliminating potential correlations from different features that might mess with model performance. By selecting the highest correlated features it allows the model to predict with higher accuracy. "
      ],
      "metadata": {
        "id": "lLz6Z2j-A561"
      }
    },
    {
      "cell_type": "code",
      "source": [
        "X['BuildingValue'] = df['BuildingValue']"
      ],
      "metadata": {
        "colab": {
          "base_uri": "https://localhost:8080/"
        },
        "id": "ePv4udM4iH6q",
        "outputId": "6e2eead0-605b-4250-880d-f33dc50c4044"
      },
      "execution_count": 875,
      "outputs": [
        {
          "output_type": "stream",
          "name": "stderr",
          "text": [
            "/usr/local/lib/python3.7/dist-packages/ipykernel_launcher.py:1: SettingWithCopyWarning: \n",
            "A value is trying to be set on a copy of a slice from a DataFrame.\n",
            "Try using .loc[row_indexer,col_indexer] = value instead\n",
            "\n",
            "See the caveats in the documentation: https://pandas.pydata.org/pandas-docs/stable/user_guide/indexing.html#returning-a-view-versus-a-copy\n",
            "  \"\"\"Entry point for launching an IPython kernel.\n"
          ]
        }
      ]
    },
    {
      "cell_type": "code",
      "source": [
        "#correlation matrix of the selected dimensions. \n",
        "corr = X.corr()\n",
        "sns.heatmap(corr)"
      ],
      "metadata": {
        "colab": {
          "base_uri": "https://localhost:8080/",
          "height": 380
        },
        "id": "wH8IJHIIiN61",
        "outputId": "d41d3dd0-6ce1-4294-f4fb-a9ab6676eb9c"
      },
      "execution_count": 876,
      "outputs": [
        {
          "output_type": "execute_result",
          "data": {
            "text/plain": [
              "<matplotlib.axes._subplots.AxesSubplot at 0x7f5b0793bb50>"
            ]
          },
          "metadata": {},
          "execution_count": 876
        },
        {
          "output_type": "display_data",
          "data": {
            "text/plain": [
              "<Figure size 432x288 with 2 Axes>"
            ],
            "image/png": "[encoded data removed]"
          },
          "metadata": {
            "needs_background": "light"
          }
        }
      ]
    },
    {
      "cell_type": "code",
      "source": [
        "corr['BuildingValue']"
      ],
      "metadata": {
        "colab": {
          "base_uri": "https://localhost:8080/"
        },
        "id": "cC6_kNh2pyuz",
        "outputId": "c240bdec-c379-4493-90c7-a0eacce268bf"
      },
      "execution_count": 877,
      "outputs": [
        {
          "output_type": "execute_result",
          "data": {
            "text/plain": [
              "BuildingNo             0.403770\n",
              "BuildingGrossAreaSF    0.459051\n",
              "HalfBaths              0.387801\n",
              "BuildingFinishedSf     0.458151\n",
              "BuildingValue          1.000000\n",
              "Name: BuildingValue, dtype: float64"
            ]
          },
          "metadata": {},
          "execution_count": 877
        }
      ]
    },
    {
      "cell_type": "markdown",
      "source": [
        "The correlation matrix of the selected features shows us a much more clearer picture on what variables correlate. all of the variables are decently correlated with building value. Half baths and building finsished do have a very high correlation which is a potential cause for concern but due to the significant increase of the models performance I am not too worried about it. "
      ],
      "metadata": {
        "id": "tvxdUhnOp5oe"
      }
    }
  ]
}