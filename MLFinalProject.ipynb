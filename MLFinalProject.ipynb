{
  "nbformat": 4,
  "nbformat_minor": 0,
  "metadata": {
    "colab": {
      "name": "MLFinalProject.ipynb",
      "provenance": [],
      "toc_visible": true,
      "authorship_tag": "ABX9TyNkSkMbY3z3p+wpGjyueP/l",
      "include_colab_link": true
    },
    "kernelspec": {
      "name": "python3",
      "display_name": "Python 3"
    },
    "language_info": {
      "name": "python"
    }
  },
  "cells": [
    {
      "cell_type": "markdown",
      "metadata": {
        "id": "view-in-github",
        "colab_type": "text"
      },
      "source": [
        "<a href=\"https://colab.research.google.com/github/samp3209/MachineLearning/blob/main/MLFinalProject.ipynb\" target=\"_parent\"><img src=\"https://colab.research.google.com/assets/colab-badge.svg\" alt=\"Open In Colab\"/></a>"
      ]
    },
    {
      "cell_type": "markdown",
      "source": [
        "# Imports\n"
      ],
      "metadata": {
        "id": "lgkiFfJlWKkx"
      }
    },
    {
      "cell_type": "code",
      "execution_count": 2,
      "metadata": {
        "id": "OU8W-PqygdUn"
      },
      "outputs": [],
      "source": [
        "import pandas as pd\n",
        "import numpy as np\n",
        "import sklearn\n",
        "import seaborn as sns\n",
        "import matplotlib.pyplot as plt\n",
        "from sklearn.linear_model import SGDRegressor\n",
        "from sklearn.linear_model import LinearRegression\n",
        "from sklearn.neighbors import KNeighborsRegressor\n",
        "from sklearn import preprocessing\n",
        "from sklearn.metrics import mean_squared_error\n",
        "from sklearn.metrics import mean_absolute_error\n",
        "from numpy import random\n",
        "from sklearn.model_selection import train_test_split\n",
        "from sklearn.metrics import mean_absolute_percentage_error\n",
        "from scipy.stats import pearsonr\n",
        "from scipy.stats import spearmanr\n",
        "from sklearn.pipeline import make_pipeline\n",
        "from sklearn.ensemble import GradientBoostingRegressor\n",
        "from sklearn.decomposition import PCA\n",
        "from sklearn.metrics import mean_absolute_percentage_error\n",
        "from sklearn.metrics import r2_score\n",
        "from sklearn import datasets\n",
        "from sklearn.preprocessing import StandardScaler"
      ]
    },
    {
      "cell_type": "code",
      "source": [
        "df = pd.read_csv('property.csv')\n",
        "Y = df['BuildingValue']\n"
      ],
      "metadata": {
        "id": "9mDYCKvEkWfQ"
      },
      "execution_count": 26,
      "outputs": []
    },
    {
      "cell_type": "markdown",
      "source": [
        "# Data Fixing"
      ],
      "metadata": {
        "id": "zL2KiRTUYuO5"
      }
    },
    {
      "cell_type": "code",
      "source": [
        "#Shrinking the pnd column to have smallest amount of unique values\n",
        "df['PrimaryNeighborhoodDescription'].unique()\n",
        "pndlist = []\n",
        "for i in df['PrimaryNeighborhoodDescription']:\n",
        "  if i == 'south end':\n",
        "    pndlist.append('SO.END')\n",
        "  elif i == 'southern end':\n",
        "    pndlist.append('south end')\n",
        "  elif i == 'NEW NO END':\n",
        "    pndlist.append('new north end')\n",
        "  elif i == 'SO HILL SECT':\n",
        "    pndlist.append('southern hill')\n",
        "  elif i == 'DOWNTOWN':\n",
        "    pndlist.append('downtown')\n",
        "  elif i == 'UNIV HILL':\n",
        "    pndlist.append('UVM hill area')\n",
        "  elif i == 'OLD NO END':\n",
        "    pndlist.append('old north end')\n",
        "  else:\n",
        "    pndlist.append(i)\n",
        "\n",
        "df['PrimaryNeighborhoodDescription'] = pndlist\n",
        "df['PrimaryNeighborhoodDescription'].unique()"
      ],
      "metadata": {
        "colab": {
          "base_uri": "https://localhost:8080/"
        },
        "id": "Sld5NzV9dS_W",
        "outputId": "9810c217-e34b-432e-fd6b-97207e2ecee0"
      },
      "execution_count": 16,
      "outputs": [
        {
          "output_type": "execute_result",
          "data": {
            "text/plain": [
              "array(['new north end', 'INTERVALE', 'old north end', 'NRTH AVE EXT',\n",
              "       'NNE MIDRANGE', 'NNE WATERVIEW', 'NNE Small Complex',\n",
              "       'NNE BASE COMPLEX', 'waterfront', 'Starr Farm Beach', '0',\n",
              "       'WATERFRONT', 'lakeview tr', 'DWT SMALL COMPLEX', 'northern hill',\n",
              "       'RIVERSIDE AV', 'NORTH ST', 'DWT WATERVIEW', 'DWT MIDRANGE',\n",
              "       'DWT BASE COMPLEX', 'CBD', 'DOWNTN APTS', 'HILL APTS',\n",
              "       'CHURCH ST MK', 'downtown', 'southern hill', 'UVM hill area',\n",
              "       'UVM CAMPUS', 'SO.END', 'south end', 'DWT MID LEVEL',\n",
              "       'SE SAMLL COMPLEX', 'SE MIDRANGE', 'INDUSTRIAL P', 'SHELBURNE ST',\n",
              "       'DWT HIGH END', 'SE WATERFRONT', 'SE BASE COMPLEX', 'SE HIGN END',\n",
              "       'DWT MED/HIGH END', 'RCO ZONE', 'EAST AVENUE'], dtype=object)"
            ]
          },
          "metadata": {},
          "execution_count": 16
        }
      ]
    },
    {
      "cell_type": "code",
      "source": [
        "#Fixing LastSaleDate and StoryHeight Columns\n",
        "#df.dtypes\n",
        "df['YearBuilt'] = df['YearBuilt'].fillna(0).astype(int)\n",
        "df['LastSaleDate'] = pd.to_datetime(df['LastSaleDate'])\n",
        "df.dtypes\n",
        "#df['StoryHeight'].unique()\n",
        "story = []\n",
        "\n",
        "for i in df['StoryHeight']:\n",
        "\n",
        "  if i == 'Two Sty':\n",
        "    story.append('2')\n",
        "    \n",
        "  elif i== 'One Sty':\n",
        "    story.append('1')\n",
        "    \n",
        "  elif i == 'Three Sty':\n",
        "    story.append('3')\n",
        "    \n",
        "  elif i == 'Four Sty':\n",
        "    story.append('4')\n",
        "    \n",
        "  elif i == 'Five Sty':\n",
        "    story.append('5')\n",
        "    \n",
        "  elif i == 'Six Sty':\n",
        "    story.append('6')\n",
        "    \n",
        "  elif i == '9 Story':\n",
        "    story.append('9')\n",
        "  \n",
        "  elif i == '4 story':\n",
        "    story.append('4')\n",
        "    \n",
        "  elif i == '4 Story':\n",
        "    story.append('4')\n",
        "   \n",
        "  elif i == '7 Story':\n",
        "    story.append('7')\n",
        "    \n",
        "  elif i == '6 Story':\n",
        "    story.append('6')\n",
        "    \n",
        "  elif i == '5 Stories':\n",
        "    story.append('5')\n",
        "   \n",
        "  elif i == '8 Story':\n",
        "    story.append('8')\n",
        "    \n",
        "  else:\n",
        "      story.append(i)\n",
        "df['StoryHeight'] = story\n",
        "df['StoryHeight'] = df['StoryHeight'].astype(float)\n",
        "df['StoryHeight']\n",
        "#story"
      ],
      "metadata": {
        "colab": {
          "base_uri": "https://localhost:8080/"
        },
        "id": "B5wy15aKYxPM",
        "outputId": "deb4e677-ded2-44e6-e927-1db056239560"
      },
      "execution_count": 15,
      "outputs": [
        {
          "output_type": "execute_result",
          "data": {
            "text/plain": [
              "0        1.50\n",
              "1         NaN\n",
              "2        1.50\n",
              "3        2.00\n",
              "4        1.75\n",
              "         ... \n",
              "11403    1.00\n",
              "11404    1.00\n",
              "11405    1.00\n",
              "11406    4.00\n",
              "11407    1.00\n",
              "Name: StoryHeight, Length: 11408, dtype: float64"
            ]
          },
          "metadata": {},
          "execution_count": 15
        }
      ]
    },
    {
      "cell_type": "code",
      "source": [
        "#fixing number columns to remove unneccessary characters\n",
        "df['BuildingValue'] = df['BuildingValue'].astype(str)\n",
        "df['BuildingValue'] = df['BuildingValue'].str.replace(',','')\n",
        "df['BuildingValue'] = df['BuildingValue'].str.replace('$','')\n",
        "df['BuildingValue'] = df['BuildingValue'].astype(float)\n",
        "######\n",
        "df['LandValue'] = df['LandValue'].astype(str)\n",
        "df['LandValue'] = df['LandValue'].str.replace(',','')\n",
        "df['LandValue'] = df['LandValue'].str.replace('$','')\n",
        "df['LandValue'] = df['LandValue'].astype(float)\n",
        "######\n",
        "\n",
        "########\n",
        "df['LastSaleAmount'] = df['LastSaleAmount'].astype(str)\n",
        "df['LastSaleAmount'] = df['LastSaleAmount'].str.replace(',','')\n",
        "df['LastSaleAmount'] = df['LastSaleAmount'].str.replace('$','')\n",
        "df['LastSaleAmount'] = df['LastSaleAmount'].astype(float)\n",
        "########\n",
        "#square feet removal\n",
        "########\n",
        "df['LotSqFeet'] = df['LotSqFeet'].astype(str)\n",
        "df['LotSqFeet'] = df['LotSqFeet'].str.replace(' sqft','')\n",
        "df['LotSqFeet'] = df['LotSqFeet'].str.replace(',','')\n",
        "df['LotSqFeet'] = df['LotSqFeet'].astype(int)\n",
        "#########\n",
        "df['BuildingGrossAreaSF'] = df['BuildingGrossAreaSF'].astype(str)\n",
        "df['BuildingGrossAreaSF'] = df['BuildingGrossAreaSF'].str.replace(' sqft','')\n",
        "df['BuildingGrossAreaSF'] = df['BuildingGrossAreaSF'].str.replace(',','')\n",
        "df['BuildingGrossAreaSF'] = df['BuildingGrossAreaSF'].astype(int)\n",
        "#########\n",
        "#########\n",
        "df['BuildingFinishedSf'] = df['BuildingFinishedSf'].astype(str)\n",
        "df['BuildingFinishedSf'] = df['BuildingFinishedSf'].str.replace(' sqft','')\n",
        "df['BuildingFinishedSf'] = df['BuildingFinishedSf'].str.replace(',','')\n",
        "df['BuildingFinishedSf'] = df['BuildingFinishedSf'].astype(int)"
      ],
      "metadata": {
        "colab": {
          "base_uri": "https://localhost:8080/"
        },
        "id": "3FZggk9Hd6Hd",
        "outputId": "ee5abf5b-9688-4023-bd94-150279d34b1d"
      },
      "execution_count": 21,
      "outputs": [
        {
          "output_type": "stream",
          "name": "stderr",
          "text": [
            "/usr/local/lib/python3.7/dist-packages/ipykernel_launcher.py:4: FutureWarning: The default value of regex will change from True to False in a future version. In addition, single character regular expressions will *not* be treated as literal strings when regex=True.\n",
            "  after removing the cwd from sys.path.\n",
            "/usr/local/lib/python3.7/dist-packages/ipykernel_launcher.py:9: FutureWarning: The default value of regex will change from True to False in a future version. In addition, single character regular expressions will *not* be treated as literal strings when regex=True.\n",
            "  if __name__ == '__main__':\n",
            "/usr/local/lib/python3.7/dist-packages/ipykernel_launcher.py:16: FutureWarning: The default value of regex will change from True to False in a future version. In addition, single character regular expressions will *not* be treated as literal strings when regex=True.\n",
            "  app.launch_new_instance()\n"
          ]
        }
      ]
    },
    {
      "cell_type": "code",
      "source": [
        "#Adding numeric scale to physical condition\n",
        "#print(df['PhysicalCondition'].unique())\n",
        "nums = []\n",
        "for i in df['PhysicalCondition']:\n",
        "  if i == 'Fair':\n",
        "    nums.append(1)\n",
        "  elif i == 'Fair-Avg':\n",
        "    nums.append(2)\n",
        "  elif i == 'Average':\n",
        "    nums.append(3)\n",
        "  elif i == 'Avg-Good':\n",
        "    nums.append(4)\n",
        "  elif i == 'Good':\n",
        "    nums.append(5)\n",
        "  elif i == 'Good-VG':\n",
        "    nums.append(6)\n",
        "  else:\n",
        "    nums.append(7)\n",
        "df['PhysicalCondition'] = nums\n",
        "df['PhysicalCondition'] = df['PhysicalCondition'].astype(int)\n",
        "df['PhysicalCondition'].sample(20)"
      ],
      "metadata": {
        "colab": {
          "base_uri": "https://localhost:8080/"
        },
        "id": "jzxsMUIHeAJI",
        "outputId": "70ff311e-e210-48ac-d6f7-059af130a9a2"
      },
      "execution_count": 22,
      "outputs": [
        {
          "output_type": "execute_result",
          "data": {
            "text/plain": [
              "3347    3\n",
              "9407    3\n",
              "8224    6\n",
              "7236    3\n",
              "6659    7\n",
              "4300    3\n",
              "1522    5\n",
              "6545    3\n",
              "745     3\n",
              "1682    3\n",
              "9593    3\n",
              "894     3\n",
              "4123    3\n",
              "1042    3\n",
              "1423    7\n",
              "4337    3\n",
              "7319    3\n",
              "6903    3\n",
              "1103    3\n",
              "1497    1\n",
              "Name: PhysicalCondition, dtype: int64"
            ]
          },
          "metadata": {},
          "execution_count": 22
        }
      ]
    },
    {
      "cell_type": "code",
      "source": [
        "quantitative = [f for f in df.columns if df.dtypes[f] != 'object']\n",
        "quantitative"
      ],
      "metadata": {
        "colab": {
          "base_uri": "https://localhost:8080/"
        },
        "id": "1BcrPDY3eWr7",
        "outputId": "c3b3d167-11d8-4410-bbff-ef3b3435bb75"
      },
      "execution_count": 25,
      "outputs": [
        {
          "output_type": "execute_result",
          "data": {
            "text/plain": [
              "['PropertyId',\n",
              " 'LastSaleDate',\n",
              " 'LastSaleAmount',\n",
              " 'LotSqFeet',\n",
              " 'BuildingValue',\n",
              " 'LandValue',\n",
              " 'BuildingNo',\n",
              " 'YearBuilt',\n",
              " 'StoryHeight',\n",
              " 'BuildingGrossAreaSF',\n",
              " 'BuildingFinishedSf',\n",
              " 'TotalRooms',\n",
              " 'Bedrooms',\n",
              " 'FullBaths',\n",
              " 'HalfBaths',\n",
              " 'ResidentialUnits',\n",
              " 'CommercialUnits',\n",
              " 'PhysicalCondition',\n",
              " 'DepreciationPct']"
            ]
          },
          "metadata": {},
          "execution_count": 25
        }
      ]
    },
    {
      "cell_type": "markdown",
      "source": [
        "#Data Exploration"
      ],
      "metadata": {
        "id": "pBYyxh3lWcr4"
      }
    },
    {
      "cell_type": "code",
      "source": [
        "corr = df[quantitative+['BuildingValue']].corr()\n",
        "sns.heatmap(corr)"
      ],
      "metadata": {
        "colab": {
          "base_uri": "https://localhost:8080/",
          "height": 380
        },
        "id": "H08zPWsiWiG2",
        "outputId": "3bbfabfd-c222-4127-f3b0-37924b9a0e7b"
      },
      "execution_count": 11,
      "outputs": [
        {
          "output_type": "execute_result",
          "data": {
            "text/plain": [
              "<matplotlib.axes._subplots.AxesSubplot at 0x7f3dec161850>"
            ]
          },
          "metadata": {},
          "execution_count": 11
        },
        {
          "output_type": "display_data",
          "data": {
            "text/plain": [
              "<Figure size 432x288 with 2 Axes>"
            ],
            "image/png": "[encoded data removed]"
          },
          "metadata": {
            "needs_background": "light"
          }
        }
      ]
    }
  ]
}