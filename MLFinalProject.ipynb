{
  "nbformat": 4,
  "nbformat_minor": 0,
  "metadata": {
    "colab": {
      "name": "MLFinalProject.ipynb",
      "provenance": [],
      "collapsed_sections": [
        "pBYyxh3lWcr4"
      ],
      "include_colab_link": true
    },
    "kernelspec": {
      "name": "python3",
      "display_name": "Python 3"
    },
    "language_info": {
      "name": "python"
    }
  },
  "cells": [
    {
      "cell_type": "markdown",
      "metadata": {
        "id": "view-in-github",
        "colab_type": "text"
      },
      "source": [
        "<a href=\"https://colab.research.google.com/github/samp3209/MachineLearning/blob/main/MLFinalProject.ipynb\" target=\"_parent\"><img src=\"https://colab.research.google.com/assets/colab-badge.svg\" alt=\"Open In Colab\"/></a>"
      ]
    },
    {
      "cell_type": "markdown",
      "source": [
        "# Imports\n"
      ],
      "metadata": {
        "id": "lgkiFfJlWKkx"
      }
    },
    {
      "cell_type": "code",
      "execution_count": 253,
      "metadata": {
        "id": "OU8W-PqygdUn"
      },
      "outputs": [],
      "source": [
        "import pandas as pd\n",
        "import numpy as np\n",
        "import sklearn\n",
        "import seaborn as sns\n",
        "import matplotlib.pyplot as plt\n",
        "from sklearn.linear_model import SGDRegressor\n",
        "from sklearn.linear_model import LinearRegression\n",
        "from sklearn.neighbors import KNeighborsRegressor\n",
        "from sklearn import preprocessing\n",
        "from sklearn.metrics import mean_squared_error\n",
        "from sklearn.metrics import mean_absolute_error\n",
        "from numpy import random\n",
        "from sklearn.model_selection import train_test_split\n",
        "from sklearn.metrics import mean_absolute_percentage_error\n",
        "from scipy.stats import pearsonr\n",
        "from scipy.stats import spearmanr\n",
        "from sklearn.pipeline import make_pipeline\n",
        "from sklearn.ensemble import GradientBoostingRegressor\n",
        "from sklearn.decomposition import PCA\n",
        "from sklearn.metrics import mean_absolute_percentage_error\n",
        "from sklearn.metrics import r2_score\n",
        "from sklearn import datasets\n",
        "from sklearn.preprocessing import StandardScaler\n",
        "from sklearn.decomposition import PCA"
      ]
    },
    {
      "cell_type": "code",
      "source": [
        "df = pd.read_csv('property.csv')\n"
      ],
      "metadata": {
        "id": "9mDYCKvEkWfQ"
      },
      "execution_count": 254,
      "outputs": []
    },
    {
      "cell_type": "markdown",
      "source": [
        "# Data Fixing"
      ],
      "metadata": {
        "id": "zL2KiRTUYuO5"
      }
    },
    {
      "cell_type": "code",
      "source": [
        "#Shrinking the pnd column to have smallest amount of unique values\n",
        "df['PrimaryNeighborhoodDescription'].unique()\n",
        "pndlist = []\n",
        "for i in df['PrimaryNeighborhoodDescription']:\n",
        "  if i == 'south end':\n",
        "    pndlist.append('SO.END')\n",
        "  elif i == 'southern end':\n",
        "    pndlist.append('south end')\n",
        "  elif i == 'NEW NO END':\n",
        "    pndlist.append('new north end')\n",
        "  elif i == 'SO HILL SECT':\n",
        "    pndlist.append('southern hill')\n",
        "  elif i == 'DOWNTOWN':\n",
        "    pndlist.append('downtown')\n",
        "  elif i == 'UNIV HILL':\n",
        "    pndlist.append('UVM hill area')\n",
        "  elif i == 'OLD NO END':\n",
        "    pndlist.append('old north end')\n",
        "  else:\n",
        "    pndlist.append(i)\n",
        "\n",
        "df['PrimaryNeighborhoodDescription'] = pndlist\n",
        "df['PrimaryNeighborhoodDescription'].unique()"
      ],
      "metadata": {
        "colab": {
          "base_uri": "https://localhost:8080/"
        },
        "id": "Sld5NzV9dS_W",
        "outputId": "b193df2a-f28f-47a2-c121-318c9922b255"
      },
      "execution_count": 255,
      "outputs": [
        {
          "output_type": "execute_result",
          "data": {
            "text/plain": [
              "array(['new north end', 'INTERVALE', 'old north end', 'NRTH AVE EXT',\n",
              "       'NNE MIDRANGE', 'NNE WATERVIEW', 'NNE Small Complex',\n",
              "       'NNE BASE COMPLEX', 'waterfront', 'Starr Farm Beach', '0',\n",
              "       'WATERFRONT', 'lakeview tr', 'DWT SMALL COMPLEX', 'northern hill',\n",
              "       'RIVERSIDE AV', 'NORTH ST', 'DWT WATERVIEW', 'DWT MIDRANGE',\n",
              "       'DWT BASE COMPLEX', 'CBD', 'DOWNTN APTS', 'HILL APTS',\n",
              "       'CHURCH ST MK', 'downtown', 'southern hill', 'UVM hill area',\n",
              "       'UVM CAMPUS', 'SO.END', 'south end', 'DWT MID LEVEL',\n",
              "       'SE SAMLL COMPLEX', 'SE MIDRANGE', 'INDUSTRIAL P', 'SHELBURNE ST',\n",
              "       'DWT HIGH END', 'SE WATERFRONT', 'SE BASE COMPLEX', 'SE HIGN END',\n",
              "       'DWT MED/HIGH END', 'RCO ZONE', 'EAST AVENUE'], dtype=object)"
            ]
          },
          "metadata": {},
          "execution_count": 255
        }
      ]
    },
    {
      "cell_type": "code",
      "source": [
        "#Fixing LastSaleDate and StoryHeight Columns\n",
        "#df.dtypes\n",
        "df['YearBuilt'] = df['YearBuilt'].fillna(0).astype(int)\n",
        "df['LastSaleDate'] = pd.to_datetime(df['LastSaleDate'])\n",
        "df.dtypes\n",
        "#df['StoryHeight'].unique()\n",
        "story = []\n",
        "\n",
        "for i in df['StoryHeight']:\n",
        "\n",
        "  if i == 'Two Sty':\n",
        "    story.append('2')\n",
        "    \n",
        "  elif i== 'One Sty':\n",
        "    story.append('1')\n",
        "    \n",
        "  elif i == 'Three Sty':\n",
        "    story.append('3')\n",
        "    \n",
        "  elif i == 'Four Sty':\n",
        "    story.append('4')\n",
        "    \n",
        "  elif i == 'Five Sty':\n",
        "    story.append('5')\n",
        "    \n",
        "  elif i == 'Six Sty':\n",
        "    story.append('6')\n",
        "    \n",
        "  elif i == '9 Story':\n",
        "    story.append('9')\n",
        "  \n",
        "  elif i == '4 story':\n",
        "    story.append('4')\n",
        "    \n",
        "  elif i == '4 Story':\n",
        "    story.append('4')\n",
        "   \n",
        "  elif i == '7 Story':\n",
        "    story.append('7')\n",
        "    \n",
        "  elif i == '6 Story':\n",
        "    story.append('6')\n",
        "    \n",
        "  elif i == '5 Stories':\n",
        "    story.append('5')\n",
        "   \n",
        "  elif i == '8 Story':\n",
        "    story.append('8')\n",
        "    \n",
        "  else:\n",
        "      story.append(i)\n",
        "df['StoryHeight'] = story\n",
        "df['StoryHeight'] = df['StoryHeight'].astype(float)\n",
        "df['StoryHeight']\n",
        "#story"
      ],
      "metadata": {
        "colab": {
          "base_uri": "https://localhost:8080/"
        },
        "id": "B5wy15aKYxPM",
        "outputId": "ead4ac36-e646-476c-ffdd-6e8d18516327"
      },
      "execution_count": 256,
      "outputs": [
        {
          "output_type": "execute_result",
          "data": {
            "text/plain": [
              "0        1.50\n",
              "1         NaN\n",
              "2        1.50\n",
              "3        2.00\n",
              "4        1.75\n",
              "         ... \n",
              "11403    1.00\n",
              "11404    1.00\n",
              "11405    1.00\n",
              "11406    4.00\n",
              "11407    1.00\n",
              "Name: StoryHeight, Length: 11408, dtype: float64"
            ]
          },
          "metadata": {},
          "execution_count": 256
        }
      ]
    },
    {
      "cell_type": "code",
      "source": [
        "#fixing number columns to remove unneccessary characters\n",
        "df['BuildingValue'] = df['BuildingValue'].astype(str)\n",
        "df['BuildingValue'] = df['BuildingValue'].str.replace(',','')\n",
        "df['BuildingValue'] = df['BuildingValue'].str.replace('$','')\n",
        "df['BuildingValue'] = df['BuildingValue'].astype(float)\n",
        "######\n",
        "df['LandValue'] = df['LandValue'].astype(str)\n",
        "df['LandValue'] = df['LandValue'].str.replace(',','')\n",
        "df['LandValue'] = df['LandValue'].str.replace('$','')\n",
        "df['LandValue'] = df['LandValue'].astype(float)\n",
        "######\n",
        "\n",
        "########\n",
        "df['LastSaleAmount'] = df['LastSaleAmount'].astype(str)\n",
        "df['LastSaleAmount'] = df['LastSaleAmount'].str.replace(',','')\n",
        "df['LastSaleAmount'] = df['LastSaleAmount'].str.replace('$','')\n",
        "df['LastSaleAmount'] = df['LastSaleAmount'].astype(float)\n",
        "########\n",
        "#square feet removal\n",
        "########\n",
        "df['LotSqFeet'] = df['LotSqFeet'].astype(str)\n",
        "df['LotSqFeet'] = df['LotSqFeet'].str.replace(' sqft','')\n",
        "df['LotSqFeet'] = df['LotSqFeet'].str.replace(',','')\n",
        "df['LotSqFeet'] = df['LotSqFeet'].astype(int)\n",
        "#########\n",
        "df['BuildingGrossAreaSF'] = df['BuildingGrossAreaSF'].astype(str)\n",
        "df['BuildingGrossAreaSF'] = df['BuildingGrossAreaSF'].str.replace(' sqft','')\n",
        "df['BuildingGrossAreaSF'] = df['BuildingGrossAreaSF'].str.replace(',','')\n",
        "df['BuildingGrossAreaSF'] = df['BuildingGrossAreaSF'].astype(int)\n",
        "#########\n",
        "#########\n",
        "df['BuildingFinishedSf'] = df['BuildingFinishedSf'].astype(str)\n",
        "df['BuildingFinishedSf'] = df['BuildingFinishedSf'].str.replace(' sqft','')\n",
        "df['BuildingFinishedSf'] = df['BuildingFinishedSf'].str.replace(',','')\n",
        "df['BuildingFinishedSf'] = df['BuildingFinishedSf'].astype(int)"
      ],
      "metadata": {
        "colab": {
          "base_uri": "https://localhost:8080/"
        },
        "id": "3FZggk9Hd6Hd",
        "outputId": "9a0c5f03-2318-4b31-af2d-f9cd0651fd0d"
      },
      "execution_count": 257,
      "outputs": [
        {
          "output_type": "stream",
          "name": "stderr",
          "text": [
            "/usr/local/lib/python3.7/dist-packages/ipykernel_launcher.py:4: FutureWarning: The default value of regex will change from True to False in a future version. In addition, single character regular expressions will *not* be treated as literal strings when regex=True.\n",
            "  after removing the cwd from sys.path.\n",
            "/usr/local/lib/python3.7/dist-packages/ipykernel_launcher.py:9: FutureWarning: The default value of regex will change from True to False in a future version. In addition, single character regular expressions will *not* be treated as literal strings when regex=True.\n",
            "  if __name__ == '__main__':\n",
            "/usr/local/lib/python3.7/dist-packages/ipykernel_launcher.py:16: FutureWarning: The default value of regex will change from True to False in a future version. In addition, single character regular expressions will *not* be treated as literal strings when regex=True.\n",
            "  app.launch_new_instance()\n"
          ]
        }
      ]
    },
    {
      "cell_type": "code",
      "source": [
        "#Adding numeric scale to physical condition\n",
        "#print(df['PhysicalCondition'].unique())\n",
        "nums = []\n",
        "for i in df['PhysicalCondition']:\n",
        "  if i == 'Fair':\n",
        "    nums.append(1)\n",
        "  elif i == 'Fair-Avg':\n",
        "    nums.append(2)\n",
        "  elif i == 'Average':\n",
        "    nums.append(3)\n",
        "  elif i == 'Avg-Good':\n",
        "    nums.append(4)\n",
        "  elif i == 'Good':\n",
        "    nums.append(5)\n",
        "  elif i == 'Good-VG':\n",
        "    nums.append(6)\n",
        "  else:\n",
        "    nums.append(7)\n",
        "df['PhysicalCondition'] = nums\n",
        "df['PhysicalCondition'] = df['PhysicalCondition'].astype(int)\n",
        "df['PhysicalCondition'].sample(20)"
      ],
      "metadata": {
        "colab": {
          "base_uri": "https://localhost:8080/"
        },
        "id": "jzxsMUIHeAJI",
        "outputId": "0fb51dd9-b4b9-48ae-ce7e-bba6a8cdd54d"
      },
      "execution_count": 258,
      "outputs": [
        {
          "output_type": "execute_result",
          "data": {
            "text/plain": [
              "7745     3\n",
              "1245     2\n",
              "7312     3\n",
              "243      5\n",
              "10740    7\n",
              "9325     3\n",
              "6940     3\n",
              "10341    7\n",
              "4070     1\n",
              "11397    5\n",
              "9677     3\n",
              "184      3\n",
              "10229    3\n",
              "2161     5\n",
              "2457     1\n",
              "6406     1\n",
              "666      3\n",
              "3690     5\n",
              "11235    7\n",
              "1087     3\n",
              "Name: PhysicalCondition, dtype: int64"
            ]
          },
          "metadata": {},
          "execution_count": 258
        }
      ]
    },
    {
      "cell_type": "code",
      "source": [
        "quantitative = [f for f in df.columns if df.dtypes[f] != 'object']\n",
        "quantitative"
      ],
      "metadata": {
        "colab": {
          "base_uri": "https://localhost:8080/"
        },
        "id": "1BcrPDY3eWr7",
        "outputId": "17b48402-5f41-4354-f806-55ed105cdad4"
      },
      "execution_count": 259,
      "outputs": [
        {
          "output_type": "execute_result",
          "data": {
            "text/plain": [
              "['PropertyId',\n",
              " 'LastSaleDate',\n",
              " 'LastSaleAmount',\n",
              " 'LotSqFeet',\n",
              " 'BuildingValue',\n",
              " 'LandValue',\n",
              " 'BuildingNo',\n",
              " 'YearBuilt',\n",
              " 'StoryHeight',\n",
              " 'BuildingGrossAreaSF',\n",
              " 'BuildingFinishedSf',\n",
              " 'TotalRooms',\n",
              " 'Bedrooms',\n",
              " 'FullBaths',\n",
              " 'HalfBaths',\n",
              " 'ResidentialUnits',\n",
              " 'CommercialUnits',\n",
              " 'PhysicalCondition',\n",
              " 'DepreciationPct']"
            ]
          },
          "metadata": {},
          "execution_count": 259
        }
      ]
    },
    {
      "cell_type": "code",
      "source": [
        "#dropping columns \n",
        "#df = df.drop(columns=['TaxParcelId', 'VermontSPAN', 'StreetAddressFormatted', 'PrimaryLandUseCode', 'FoundationType', 'Quality'])\n"
      ],
      "metadata": {
        "id": "FPAEL6XLfl_s"
      },
      "execution_count": 260,
      "outputs": []
    },
    {
      "cell_type": "markdown",
      "source": [
        "# Model Building"
      ],
      "metadata": {
        "id": "eMzruGZWg-nA"
      }
    },
    {
      "cell_type": "code",
      "source": [
        "df_numerics_only = df.select_dtypes(include=np.number)\n",
        "df_numerics_only = df_numerics_only.drop(columns=['BuildingValue'])"
      ],
      "metadata": {
        "id": "YRYCa4JJhi_3"
      },
      "execution_count": 261,
      "outputs": []
    },
    {
      "cell_type": "code",
      "source": [
        "#df_numerics_only.isnull().sum(axis = 0)"
      ],
      "metadata": {
        "id": "zvPDCQ6rnrBQ"
      },
      "execution_count": 262,
      "outputs": []
    },
    {
      "cell_type": "code",
      "source": [
        "#\n",
        "\n",
        "df_numerics_only['StoryHeight'] = df_numerics_only['StoryHeight'].fillna(1)\n",
        "df_numerics_only['ResidentialUnits'] =df_numerics_only['ResidentialUnits'].fillna(1)\n",
        "df_numerics_only['CommercialUnits'] =df_numerics_only['CommercialUnits'].fillna(1)\n",
        "#df_numerics_only['ResidentialUnits']"
      ],
      "metadata": {
        "id": "c0yikT0Qn8zu"
      },
      "execution_count": 263,
      "outputs": []
    },
    {
      "cell_type": "code",
      "source": [
        "#df_numerics_only.mean()"
      ],
      "metadata": {
        "id": "W0OOkzoJvQxb"
      },
      "execution_count": 264,
      "outputs": []
    },
    {
      "cell_type": "code",
      "source": [
        "#filling nans with the average\n",
        "df_numerics_only['LastSaleAmount'] = df_numerics_only['LastSaleAmount'].fillna(454221)"
      ],
      "metadata": {
        "id": "JS6rH7M5tdo0"
      },
      "execution_count": 265,
      "outputs": []
    },
    {
      "cell_type": "code",
      "source": [
        "scaled_features  = StandardScaler().fit_transform(df_numerics_only.values)\n",
        "df_numerics_only = pd.DataFrame(scaled_features, index=df_numerics_only.index, columns=df_numerics_only.columns)"
      ],
      "metadata": {
        "id": "ahaayCc4HXr4"
      },
      "execution_count": 266,
      "outputs": []
    },
    {
      "cell_type": "code",
      "source": [
        "#building model inputs\n",
        "Y = df['BuildingValue']\n",
        "Y = Y.values.reshape(-1, 1)\n",
        "Y = StandardScaler().fit_transform(Y)\n",
        "X = df_numerics_only\n",
        "X_train, X_test, Y_train, Y_test = train_test_split(X, Y, test_size=0.3)\n",
        "X_test=np.array(X_test)\n",
        "Y_test=np.array(Y_test)\n",
        "Y"
      ],
      "metadata": {
        "id": "iQDqH4x4qhT3",
        "colab": {
          "base_uri": "https://localhost:8080/"
        },
        "outputId": "15e56edb-a11d-47e1-e1b8-5eb5ed72433a"
      },
      "execution_count": 267,
      "outputs": [
        {
          "output_type": "execute_result",
          "data": {
            "text/plain": [
              "array([[-0.00496577],\n",
              "       [-0.07251107],\n",
              "       [-0.06386065],\n",
              "       ...,\n",
              "       [-0.06969708],\n",
              "       [-0.04710934],\n",
              "       [-0.05032127]])"
            ]
          },
          "metadata": {},
          "execution_count": 267
        }
      ]
    },
    {
      "cell_type": "code",
      "source": [
        "#df_numerics_only['LastSaleAmount']"
      ],
      "metadata": {
        "id": "eFSOkU4kuiL2"
      },
      "execution_count": 268,
      "outputs": []
    },
    {
      "cell_type": "code",
      "source": [
        "df['BuildingValue'].describe()"
      ],
      "metadata": {
        "id": "-U3RSbmWxKR2",
        "colab": {
          "base_uri": "https://localhost:8080/"
        },
        "outputId": "164bb4c0-bb0a-4fff-a881-dbfeedda57e4"
      },
      "execution_count": 269,
      "outputs": [
        {
          "output_type": "execute_result",
          "data": {
            "text/plain": [
              "count    1.140800e+04\n",
              "mean     1.530622e+06\n",
              "std      2.110972e+07\n",
              "min      0.000000e+00\n",
              "25%      1.988000e+05\n",
              "50%      2.688000e+05\n",
              "75%      3.882250e+05\n",
              "max      5.767676e+08\n",
              "Name: BuildingValue, dtype: float64"
            ]
          },
          "metadata": {},
          "execution_count": 269
        }
      ]
    },
    {
      "cell_type": "code",
      "source": [
        ""
      ],
      "metadata": {
        "id": "l2irsd31tRaY"
      },
      "execution_count": 269,
      "outputs": []
    },
    {
      "cell_type": "code",
      "source": [
        "#SGD Regressor\n",
        "n_iter=1000\n",
        "clf_ = SGDRegressor(max_iter=n_iter)\n",
        "#clf = KNeighborsRegressor(n_neighbors=1)\n",
        "#clf = LinearRegression()\n",
        "clf_.fit(X_train, Y_train)\n",
        "\n",
        "y_pred_sksgd=clf_.predict(X_test)\n",
        "plt.scatter(Y_test,y_pred_sksgd)\n",
        "plt.grid()\n",
        "plt.xlabel('Actual y')\n",
        "plt.ylabel('Predicted y')\n",
        "plt.title('Scatter plot from actual y and predicted y')\n",
        "plt.show()\n",
        "\n",
        "print('Mean Absolute percentage Error :',mean_absolute_percentage_error(Y_test, y_pred_sksgd))\n",
        "print('Mean Absolute Error :',mean_absolute_error(Y_test, y_pred_sksgd))\n",
        "print('r2 score is :', r2_score(Y_test, y_pred_sksgd))\n",
        "print('y is:', Y_test)\n",
        "print('predicted was:', y_pred_sksgd)\n",
        "print('score is:', clf_.score(X_test, Y_test))"
      ],
      "metadata": {
        "colab": {
          "base_uri": "https://localhost:8080/",
          "height": 645
        },
        "id": "uu1IwvcGh8Q-",
        "outputId": "aeaf097d-2190-46e7-8b83-13ddfb09e4b5"
      },
      "execution_count": 270,
      "outputs": [
        {
          "output_type": "stream",
          "name": "stderr",
          "text": [
            "/usr/local/lib/python3.7/dist-packages/sklearn/utils/validation.py:993: DataConversionWarning: A column-vector y was passed when a 1d array was expected. Please change the shape of y to (n_samples, ), for example using ravel().\n",
            "  y = column_or_1d(y, warn=True)\n",
            "/usr/local/lib/python3.7/dist-packages/sklearn/base.py:451: UserWarning: X does not have valid feature names, but SGDRegressor was fitted with feature names\n",
            "  \"X does not have valid feature names, but\"\n"
          ]
        },
        {
          "output_type": "display_data",
          "data": {
            "text/plain": [
              "<Figure size 432x288 with 1 Axes>"
            ],
            "image/png": "[encoded data removed]"
          },
          "metadata": {
            "needs_background": "light"
          }
        },
        {
          "output_type": "stream",
          "name": "stdout",
          "text": [
            "Mean Absolute percentage Error : 35.29538221862569\n",
            "Mean Absolute Error : 0.12904684614877446\n",
            "r2 score is : 0.3665082991981904\n",
            "y is: [[ 0.12552484]\n",
            " [-0.04502964]\n",
            " [-0.06314531]\n",
            " ...\n",
            " [-0.06107508]\n",
            " [-0.06573191]\n",
            " [-0.03137656]]\n",
            "predicted was: [ 0.19108761 -0.14724905 -0.13089265 ... -0.12089087 -0.07416159\n",
            "  0.01034254]\n",
            "score is: 0.3665082991981904\n"
          ]
        },
        {
          "output_type": "stream",
          "name": "stderr",
          "text": [
            "/usr/local/lib/python3.7/dist-packages/sklearn/base.py:451: UserWarning: X does not have valid feature names, but SGDRegressor was fitted with feature names\n",
            "  \"X does not have valid feature names, but\"\n"
          ]
        }
      ]
    },
    {
      "cell_type": "markdown",
      "source": [
        "model performance is low going to look at the correlation matrix now"
      ],
      "metadata": {
        "id": "1lbucq4CsQxj"
      }
    },
    {
      "cell_type": "markdown",
      "source": [
        "#Data Exploration"
      ],
      "metadata": {
        "id": "pBYyxh3lWcr4"
      }
    },
    {
      "cell_type": "code",
      "source": [
        "#correlation matrix\n",
        "corrdata = df_numerics_only\n",
        "corrdata['BuildingValue'] = Y\n",
        "\n",
        "corr = corrdata.corr()\n",
        "sns.heatmap(corr)"
      ],
      "metadata": {
        "colab": {
          "base_uri": "https://localhost:8080/",
          "height": 380
        },
        "id": "H08zPWsiWiG2",
        "outputId": "2b186929-b426-4be8-d7c1-44268268aeb9"
      },
      "execution_count": 271,
      "outputs": [
        {
          "output_type": "execute_result",
          "data": {
            "text/plain": [
              "<matplotlib.axes._subplots.AxesSubplot at 0x7f6af7e9eb10>"
            ]
          },
          "metadata": {},
          "execution_count": 271
        },
        {
          "output_type": "display_data",
          "data": {
            "text/plain": [
              "<Figure size 432x288 with 2 Axes>"
            ],
            "image/png": "[encoded data removed]"
          },
          "metadata": {
            "needs_background": "light"
          }
        }
      ]
    },
    {
      "cell_type": "markdown",
      "source": [
        "The correlation matrix is kind of difficult to read without feature reduction because a lot of the features have little to no correlation to the target variable building value. A lot of variables are highly correlated to eachother but not with the target variable. It is no wonder the model performed so poorly"
      ],
      "metadata": {
        "id": "1S8TX0S7rBOI"
      }
    },
    {
      "cell_type": "code",
      "source": [
        "pca = PCA(n_components=None)\n",
        "pca.fit(corrdata)\n",
        "pca.components_ \n"
      ],
      "metadata": {
        "colab": {
          "base_uri": "https://localhost:8080/"
        },
        "id": "60WMin2XktMh",
        "outputId": "2814be66-a7d5-4797-d09e-c65974e6580f"
      },
      "execution_count": 272,
      "outputs": [
        {
          "output_type": "execute_result",
          "data": {
            "text/plain": [
              "array([[ 7.76913090e-02,  2.21169536e-01,  1.43018455e-01,\n",
              "         1.87300629e-01,  1.99694687e-01,  4.18120299e-02,\n",
              "         2.70483803e-01,  4.52751226e-01,  4.51761180e-01,\n",
              "        -4.43118147e-02, -4.00940367e-02,  3.08968046e-01,\n",
              "         3.28959888e-01,  2.25815139e-01,  1.28824599e-01,\n",
              "         6.15841552e-02,  1.91506255e-02,  2.94377676e-01],\n",
              "       [-2.87190018e-02,  1.06352514e-02, -1.43231907e-01,\n",
              "        -7.42572542e-02, -8.29419431e-02,  3.46997422e-01,\n",
              "         2.71244454e-01, -3.14241373e-02, -2.47947311e-02,\n",
              "         5.76689887e-01,  5.66970382e-01,  1.98120963e-01,\n",
              "        -9.09024038e-02,  1.38205288e-01, -3.22050648e-02,\n",
              "        -2.39580147e-02,  2.03960183e-01, -8.19560368e-02],\n",
              "       [-3.10684350e-01, -8.91246213e-02,  8.56570527e-02,\n",
              "        -6.45412573e-03,  1.01647751e-01,  2.19782565e-01,\n",
              "        -1.37061297e-01,  9.82601214e-02,  8.66203889e-02,\n",
              "        -8.07096975e-02, -5.41643726e-02, -1.91495053e-01,\n",
              "         5.89066018e-02, -1.73694593e-01,  1.79006176e-01,\n",
              "        -5.51564576e-01,  6.06316645e-01,  9.96399083e-02],\n",
              "       [ 1.07613279e-01, -4.03654903e-01, -3.34340739e-01,\n",
              "        -4.67320967e-01, -3.55937288e-01,  1.09714248e-01,\n",
              "         9.55829415e-02,  2.33588835e-01,  2.42267517e-01,\n",
              "        -2.49551525e-02, -4.18220394e-02, -1.52170596e-01,\n",
              "         2.30072389e-01, -2.35439229e-01,  2.48994101e-01,\n",
              "         1.63155103e-01, -7.55899297e-02,  7.72228527e-02],\n",
              "       [-1.98268318e-02,  7.79683298e-02, -2.92289399e-01,\n",
              "        -2.68962024e-02, -3.62611955e-01, -1.42138952e-01,\n",
              "         1.19051417e-02,  5.09975707e-02,  7.37723332e-02,\n",
              "        -1.99225859e-01, -2.04396589e-01,  2.88541763e-01,\n",
              "        -1.92647073e-01,  5.03091700e-01,  2.13461895e-01,\n",
              "        -2.37127808e-01,  1.37112848e-01, -4.14681399e-01],\n",
              "       [ 5.08853834e-02,  9.76097916e-02,  2.54705679e-01,\n",
              "         3.32889349e-01, -1.10570855e-01, -1.19681897e-01,\n",
              "        -1.14993628e-01,  1.10736587e-01,  1.17148928e-01,\n",
              "         1.75515805e-01,  1.88321806e-01, -1.86666249e-01,\n",
              "        -1.77300158e-01, -2.27750183e-01,  6.80885544e-01,\n",
              "         1.19958779e-01, -1.05062541e-01, -2.70146229e-01],\n",
              "       [-5.72869582e-01, -2.03778025e-01,  1.55745781e-01,\n",
              "        -2.90414337e-01,  4.41671886e-02, -3.72226341e-01,\n",
              "        -1.79556411e-01,  6.59386822e-02,  9.74730347e-02,\n",
              "         1.30243005e-01,  1.71634842e-01,  2.60584109e-01,\n",
              "        -1.87820165e-01,  9.67452767e-02,  9.02533427e-02,\n",
              "        -1.12758446e-01, -2.97101902e-01,  2.58869761e-01],\n",
              "       [ 9.38259930e-02,  1.95768867e-01, -3.19025291e-01,\n",
              "        -2.56909181e-01,  4.93648629e-01,  3.39857575e-01,\n",
              "        -2.73669561e-01, -3.40856751e-02, -2.20938577e-02,\n",
              "        -8.81266677e-02, -8.85190593e-02,  1.13862653e-01,\n",
              "        -3.77043315e-01,  4.54729727e-02,  3.32178279e-01,\n",
              "         2.04791212e-01, -1.12774111e-02,  1.55401130e-01],\n",
              "       [-6.76704976e-01,  2.89846296e-01, -1.46352711e-01,\n",
              "         1.39228449e-01, -1.76649082e-01,  3.10218056e-01,\n",
              "        -1.22402061e-01,  6.45251435e-02,  3.32807325e-02,\n",
              "        -8.10155708e-02, -6.14192855e-02, -7.53873504e-02,\n",
              "         1.95423067e-01, -3.69174098e-02, -1.11111186e-01,\n",
              "         4.07289603e-01, -4.38033766e-02, -1.83958937e-01],\n",
              "       [ 1.24373910e-03, -4.93737593e-01,  5.74921550e-01,\n",
              "        -2.98744452e-02, -5.24551715e-02,  4.09432739e-01,\n",
              "        -5.84598081e-03, -5.80661194e-02, -3.82631479e-02,\n",
              "        -1.23032545e-01, -1.46801802e-01,  1.21114176e-01,\n",
              "        -1.22323869e-01,  2.88629887e-01,  4.45356308e-02,\n",
              "         2.85778499e-01,  8.60692546e-02, -9.40759824e-02],\n",
              "       [ 2.71198270e-01,  3.24622579e-01,  2.64689149e-01,\n",
              "        -2.18234504e-01, -3.74381513e-01,  1.57415513e-01,\n",
              "        -5.63777874e-01,  1.99992685e-01,  1.66657409e-01,\n",
              "         5.15140734e-02,  7.29944480e-02,  1.90519569e-01,\n",
              "        -7.14412594e-02, -1.46042551e-01, -2.70195699e-01,\n",
              "        -9.12387558e-02, -1.73569720e-04,  2.80086571e-02],\n",
              "       [ 8.70924998e-02, -4.28585479e-01, -3.48505696e-01,\n",
              "         5.10630139e-01,  2.63917384e-02, -1.80865201e-02,\n",
              "        -5.02830889e-01,  1.37930773e-01,  1.24919510e-01,\n",
              "         1.08994106e-01,  1.29956546e-01, -8.11319510e-02,\n",
              "         2.32206824e-02,  2.39719842e-01, -1.41682539e-01,\n",
              "         5.76703090e-02,  2.20685882e-02,  1.44205580e-01],\n",
              "       [-2.82836782e-02,  1.39618343e-01, -1.91975596e-02,\n",
              "         1.54736517e-01, -4.42513676e-01, -9.21443386e-02,\n",
              "         1.84518833e-01, -8.16671668e-02, -5.90211910e-02,\n",
              "        -4.03304526e-02, -8.01562279e-02, -1.17873429e-01,\n",
              "        -4.07370155e-01,  3.68126589e-02,  3.74622831e-02,\n",
              "         2.24420254e-01,  2.71936212e-01,  6.26032869e-01],\n",
              "       [ 3.63190680e-02,  7.97769157e-02,  9.28884964e-02,\n",
              "        -3.17882108e-01,  1.73668411e-01, -4.44328481e-01,\n",
              "        -1.43772983e-01,  8.26593727e-02,  4.89935104e-02,\n",
              "         7.39673905e-02,  1.29245003e-01, -2.37928847e-01,\n",
              "         1.13987877e-01,  2.28276464e-01, -6.01253845e-02,\n",
              "         4.23807389e-01,  5.22651834e-01, -1.57687894e-01],\n",
              "       [ 5.11171445e-02,  1.88149651e-01,  8.63392657e-02,\n",
              "        -1.21551342e-01, -1.40716330e-01,  1.20792227e-01,\n",
              "        -1.84345282e-01, -2.31094648e-01, -2.69552875e-01,\n",
              "         6.04301842e-02,  8.68019134e-02, -2.86072182e-01,\n",
              "         4.51855609e-01,  4.78093161e-01,  3.05281244e-01,\n",
              "        -1.49078465e-01, -1.95032784e-01,  2.57079718e-01],\n",
              "       [-2.63907480e-02,  7.60821874e-02,  5.98426167e-02,\n",
              "        -1.02799725e-01,  7.71004725e-02,  1.37019253e-01,\n",
              "         1.66277696e-01,  2.75236395e-01,  2.81828328e-01,\n",
              "         1.80200952e-02,  8.28901624e-03, -6.24879339e-01,\n",
              "        -3.70259455e-01,  2.86919303e-01, -2.34118360e-01,\n",
              "        -1.67520815e-01, -2.66952107e-01, -8.60021458e-02],\n",
              "       [-2.37410002e-02,  1.07554369e-02,  7.50866780e-03,\n",
              "        -1.05011575e-02,  1.80720122e-02, -2.51303059e-02,\n",
              "        -4.33862947e-02,  2.81726826e-02, -1.23979885e-02,\n",
              "         7.17794351e-01, -6.92295167e-01, -5.25764031e-03,\n",
              "         2.36340673e-02,  8.99888412e-03,  4.72750489e-03,\n",
              "        -4.57429818e-03,  9.75335777e-03, -7.69412687e-03],\n",
              "       [ 3.42192024e-03,  2.48527297e-02,  2.87151734e-03,\n",
              "         7.49099668e-04,  5.23450968e-04,  5.28854738e-03,\n",
              "        -3.01617207e-02, -7.06699526e-01,  7.04180567e-01,\n",
              "         2.37740553e-02, -1.31080453e-02, -2.03903013e-02,\n",
              "         3.96027102e-02,  5.87379612e-04, -1.44550664e-02,\n",
              "         5.14658353e-03,  1.18619169e-02, -5.63116366e-03]])"
            ]
          },
          "metadata": {},
          "execution_count": 272
        }
      ]
    },
    {
      "cell_type": "code",
      "source": [
        "#cor_target = abs(corr[\"BuildingValue\"])\n",
        "#Selecting the 5 dimensions to build the optimal model\n",
        "#relevant_features = cor_target[cor_target>0.33]\n",
        "#relevant_features\n",
        "#buildingno, grossarea, finishedsf, half baths\n",
        "\n"
      ],
      "metadata": {
        "id": "OMKMwAcS7ita"
      },
      "execution_count": 273,
      "outputs": []
    },
    {
      "cell_type": "markdown",
      "source": [
        "features chosen for the best correleation to the target variable\n",
        "I'm assuming that buildingNo correlates with some kind of location which would give us a correlation to price. "
      ],
      "metadata": {
        "id": "XnCPvGeCn23D"
      }
    },
    {
      "cell_type": "markdown",
      "source": [
        "# Model with selected features"
      ],
      "metadata": {
        "id": "gDA8-pnO_tyv"
      }
    },
    {
      "cell_type": "code",
      "source": [
        "X = df_numerics_only\n",
        "X = X.drop(columns=['BuildingValue'])"
      ],
      "metadata": {
        "id": "oCp8Tqj4_0gT"
      },
      "execution_count": 274,
      "outputs": []
    },
    {
      "cell_type": "code",
      "source": [
        "pca.fit(X)\n",
        "# Get the eigenvalues\n",
        "print(\"Eigenvalues:\")\n",
        "print(pca.explained_variance_)\n",
        "print()\n",
        "\n",
        "# Get explained variances\n",
        "print(\"Variances (Percentage):\")\n",
        "print(pca.explained_variance_ratio_ * 100)\n",
        "print()\n",
        "\n",
        "# Make the scree plot\n",
        "plt.plot(np.cumsum(pca.explained_variance_ratio_ * 100))\n",
        "plt.xlabel(\"Number of components (Dimensions)\")\n",
        "plt.ylabel(\"Explained variance (%)\")"
      ],
      "metadata": {
        "colab": {
          "base_uri": "https://localhost:8080/",
          "height": 470
        },
        "id": "wPcSMQ2yuBbg",
        "outputId": "df31421c-0691-469a-a5e1-5f16a6072601"
      },
      "execution_count": 275,
      "outputs": [
        {
          "output_type": "stream",
          "name": "stdout",
          "text": [
            "Eigenvalues:\n",
            "[3.51065323 2.37648775 1.57805217 1.55811083 1.18272287 1.0585263\n",
            " 0.95042223 0.8896913  0.80215358 0.74634944 0.61727806 0.53325739\n",
            " 0.3889215  0.36075589 0.32858666 0.0946196  0.02490154]\n",
            "\n",
            "Variances (Percentage):\n",
            "[20.64909116 13.97811431  9.28184611  9.1645544   6.95658351  6.22607946\n",
            "  5.59022892  5.23301946  4.71813684  4.38990597  3.63072911  3.1365332\n",
            "  2.28757298  2.12190745  1.93269327  0.55653708  0.14646678]\n",
            "\n"
          ]
        },
        {
          "output_type": "execute_result",
          "data": {
            "text/plain": [
              "Text(0, 0.5, 'Explained variance (%)')"
            ]
          },
          "metadata": {},
          "execution_count": 275
        },
        {
          "output_type": "display_data",
          "data": {
            "text/plain": [
              "<Figure size 432x288 with 1 Axes>"
            ],
            "image/png": "[encoded data removed]"
          },
          "metadata": {
            "needs_background": "light"
          }
        }
      ]
    },
    {
      "cell_type": "markdown",
      "source": [
        "Looks like ten components gives us 90% of the explained variance so I'm going to keep ten components."
      ],
      "metadata": {
        "id": "evHvERthu7Bc"
      }
    },
    {
      "cell_type": "code",
      "source": [
        "#Building input and scaling the data\n",
        "X_train, X_test, Y_train, Y_test = train_test_split(X, Y, test_size=0.3, random_state=42)\n",
        "#X_test=np.array(X_test)\n",
        "#Y_test=np.array(Y_test)\n",
        "#X_train=np.array(X_train)\n",
        "#Y_train = np.array(Y_train)"
      ],
      "metadata": {
        "id": "W4orLFA3A7fN"
      },
      "execution_count": 276,
      "outputs": []
    },
    {
      "cell_type": "code",
      "source": [
        "pca = PCA(n_components=10)\n",
        "X = df_numerics_only\n",
        "X = X.drop(columns=['BuildingValue'])\n",
        "X_pca = pca.fit_transform(X)\n",
        "X_pca = pd.DataFrame(X_pca)\n",
        "print(X_pca.head())\n",
        "print(\"\\nSize: \")\n",
        "print(X_pca.shape)"
      ],
      "metadata": {
        "colab": {
          "base_uri": "https://localhost:8080/"
        },
        "id": "ezubQeBFvIBP",
        "outputId": "2304641e-1f69-4c33-9d22-93f02ecde66d"
      },
      "execution_count": 277,
      "outputs": [
        {
          "output_type": "stream",
          "name": "stdout",
          "text": [
            "          0         1         2          3          4         5         6  \\\n",
            "0  4.742241 -5.001311  9.442249 -11.913746 -12.720506  8.832430 -9.378217   \n",
            "1 -0.671370 -5.254488 -0.054950  -2.508196  -0.031117  3.772604 -3.166724   \n",
            "2 -0.715086 -0.611406  1.194813   0.122892   0.661048  0.201549 -0.855089   \n",
            "3 -0.354814 -0.056905  1.020845   0.139328   0.679036  0.211379 -0.958714   \n",
            "4 -0.560386 -0.176039  0.804959   0.083079   0.552480  0.324170 -0.984699   \n",
            "\n",
            "           7          8          9  \n",
            "0  10.388480 -16.441465  11.565405  \n",
            "1   2.707558  -1.270735   0.184476  \n",
            "2  -0.798545   0.314075   0.275355  \n",
            "3  -0.560150   0.311236   0.174934  \n",
            "4  -0.799223   0.264927   0.159757  \n",
            "\n",
            "Size: \n",
            "(11408, 10)\n"
          ]
        }
      ]
    },
    {
      "cell_type": "code",
      "source": [
        "Y.shape"
      ],
      "metadata": {
        "colab": {
          "base_uri": "https://localhost:8080/"
        },
        "id": "l1IXLzwrv4cI",
        "outputId": "b6bb67a0-ff30-4e5e-af79-a7309b75aff9"
      },
      "execution_count": 278,
      "outputs": [
        {
          "output_type": "execute_result",
          "data": {
            "text/plain": [
              "(11408, 1)"
            ]
          },
          "metadata": {},
          "execution_count": 278
        }
      ]
    },
    {
      "cell_type": "code",
      "source": [
        "fig = plt.figure(figsize=(10, 8))\n",
        "sns.heatmap(X_pca.corr(), \n",
        "            annot=True)"
      ],
      "metadata": {
        "colab": {
          "base_uri": "https://localhost:8080/",
          "height": 504
        },
        "id": "9LLcUgOKvbnT",
        "outputId": "a53380a0-3d13-401b-94ab-5bf75f5d13f3"
      },
      "execution_count": 279,
      "outputs": [
        {
          "output_type": "execute_result",
          "data": {
            "text/plain": [
              "<matplotlib.axes._subplots.AxesSubplot at 0x7f6af8354e10>"
            ]
          },
          "metadata": {},
          "execution_count": 279
        },
        {
          "output_type": "display_data",
          "data": {
            "text/plain": [
              "<Figure size 720x576 with 2 Axes>"
            ],
            "image/png": "[encoded data removed]"
          },
          "metadata": {
            "needs_background": "light"
          }
        }
      ]
    },
    {
      "cell_type": "markdown",
      "source": [
        "None of the features are correlated with eachother and now has been brought back to the original dataset as all uncorrelated features. "
      ],
      "metadata": {
        "id": "mNr5iNPmvgWG"
      }
    },
    {
      "cell_type": "code",
      "source": [
        "X_train_pca, X_test_pca, Y_train, Y_test = train_test_split(X_pca, Y, test_size=0.20, \n",
        "                                                            shuffle=True, random_state=2)\n",
        "#SGD Regressor\n",
        "n_iter=1000\n",
        "clf_ = SGDRegressor(max_iter=n_iter)\n",
        "#clf = KNeighborsRegressor(n_neighbors=1)\n",
        "#clf = LinearRegression()\n",
        "clf_.fit(X_train_pca, Y_train)\n",
        "\n",
        "y_pred_sksgd=clf_.predict(X_test_pca)\n",
        "plt.scatter(Y_test,y_pred_sksgd)\n",
        "plt.grid()\n",
        "plt.xlabel('Actual y')\n",
        "plt.ylabel('Predicted y')\n",
        "plt.title('Scatter plot from actual y and predicted y')\n",
        "plt.show()\n",
        "\n",
        "print('Mean Absolute percentage Error :',mean_absolute_percentage_error(Y_test, y_pred_sksgd))\n",
        "print('Mean Absolute Error :',mean_absolute_error(Y_test, y_pred_sksgd))\n",
        "print('r2 score is :', r2_score(Y_test, y_pred_sksgd))\n",
        "print('y is:', Y_test)\n",
        "print('predicted was:', y_pred_sksgd)\n",
        "print('score is:', clf_.score(X_test_pca, Y_test))"
      ],
      "metadata": {
        "id": "EvZw0JrGBDnN",
        "outputId": "f1ea8b4d-6280-4943-ff72-3e1367af2eb6",
        "colab": {
          "base_uri": "https://localhost:8080/",
          "height": 575
        }
      },
      "execution_count": 280,
      "outputs": [
        {
          "output_type": "stream",
          "name": "stderr",
          "text": [
            "/usr/local/lib/python3.7/dist-packages/sklearn/utils/validation.py:993: DataConversionWarning: A column-vector y was passed when a 1d array was expected. Please change the shape of y to (n_samples, ), for example using ravel().\n",
            "  y = column_or_1d(y, warn=True)\n"
          ]
        },
        {
          "output_type": "display_data",
          "data": {
            "text/plain": [
              "<Figure size 432x288 with 1 Axes>"
            ],
            "image/png": "[encoded data removed]"
          },
          "metadata": {
            "needs_background": "light"
          }
        },
        {
          "output_type": "stream",
          "name": "stdout",
          "text": [
            "Mean Absolute percentage Error : 41.84339998166356\n",
            "Mean Absolute Error : 0.2215658258089213\n",
            "r2 score is : -0.427683341898381\n",
            "y is: [[-0.07251107]\n",
            " [-0.07251107]\n",
            " [-0.0642728 ]\n",
            " ...\n",
            " [-0.03289252]\n",
            " [-0.06209835]\n",
            " [-0.06144459]]\n",
            "predicted was: [-0.38293332 -0.39543495 -0.19059154 ... -0.09561753 -0.20739301\n",
            " -0.35826528]\n",
            "score is: -0.427683341898381\n"
          ]
        }
      ]
    },
    {
      "cell_type": "code",
      "source": [
        "#Kernel Ridge Regression \n",
        "from sklearn.kernel_ridge import KernelRidge\n",
        "krr = KernelRidge(alpha=1.0)\n",
        "krr.fit(X_train_pca,Y_train)\n",
        "y_pred_sksgd=krr.predict(X_test_pca)\n",
        "plt.scatter(Y_test,y_pred_sksgd)\n",
        "plt.grid()\n",
        "plt.xlabel('Actual y')\n",
        "plt.ylabel('Predicted y')\n",
        "plt.title('Scatter plot from actual y and predicted y')\n",
        "plt.show()\n",
        "\n",
        "print('Mean Absolute percentage Error :',mean_absolute_percentage_error(Y_test, y_pred_sksgd))\n",
        "print('Mean Absolute Error :',mean_absolute_error(Y_test, y_pred_sksgd))\n",
        "print('r2 score is :', r2_score(Y_test, y_pred_sksgd))\n",
        "print('y is:', Y_test)\n",
        "print('predicted was:', y_pred_sksgd)\n",
        "print('score is:', krr.score(X_test_pca, Y_test))"
      ],
      "metadata": {
        "colab": {
          "base_uri": "https://localhost:8080/",
          "height": 607
        },
        "id": "NnXn5qEvEqzH",
        "outputId": "1bd686b5-5ecd-413f-fba0-4d0500455904"
      },
      "execution_count": 281,
      "outputs": [
        {
          "output_type": "display_data",
          "data": {
            "text/plain": [
              "<Figure size 432x288 with 1 Axes>"
            ],
            "image/png": "[encoded data removed]"
          },
          "metadata": {
            "needs_background": "light"
          }
        },
        {
          "output_type": "stream",
          "name": "stdout",
          "text": [
            "Mean Absolute percentage Error : 39.18909992914038\n",
            "Mean Absolute Error : 0.16333247871226758\n",
            "r2 score is : 0.41693103310650803\n",
            "y is: [[-0.07251107]\n",
            " [-0.07251107]\n",
            " [-0.0642728 ]\n",
            " ...\n",
            " [-0.03289252]\n",
            " [-0.06209835]\n",
            " [-0.06144459]]\n",
            "predicted was: [[-0.12020197]\n",
            " [ 0.01520415]\n",
            " [-0.11845762]\n",
            " ...\n",
            " [-0.01878067]\n",
            " [-0.10563597]\n",
            " [-0.15285046]]\n",
            "score is: 0.41693103310650803\n"
          ]
        }
      ]
    },
    {
      "cell_type": "markdown",
      "source": [
        "After dimensional reduction we see a greater model performance with SDG regressor. By reducing the dimensions we are eliminating potential correlations from different features that might mess with model performance. By selecting the highest correlated features it allows the model to predict with higher accuracy. "
      ],
      "metadata": {
        "id": "lLz6Z2j-A561"
      }
    }
  ]
}