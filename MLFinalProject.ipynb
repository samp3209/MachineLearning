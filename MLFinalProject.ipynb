{
  "nbformat": 4,
  "nbformat_minor": 0,
  "metadata": {
    "colab": {
      "name": "MLFinalProject.ipynb",
      "provenance": [],
      "collapsed_sections": [
        "pBYyxh3lWcr4"
      ],
      "authorship_tag": "ABX9TyOOyslnfhPI4a3WL04+3DmP",
      "include_colab_link": true
    },
    "kernelspec": {
      "name": "python3",
      "display_name": "Python 3"
    },
    "language_info": {
      "name": "python"
    }
  },
  "cells": [
    {
      "cell_type": "markdown",
      "metadata": {
        "id": "view-in-github",
        "colab_type": "text"
      },
      "source": [
        "<a href=\"https://colab.research.google.com/github/samp3209/MachineLearning/blob/main/MLFinalProject.ipynb\" target=\"_parent\"><img src=\"https://colab.research.google.com/assets/colab-badge.svg\" alt=\"Open In Colab\"/></a>"
      ]
    },
    {
      "cell_type": "markdown",
      "source": [
        "# Imports\n"
      ],
      "metadata": {
        "id": "lgkiFfJlWKkx"
      }
    },
    {
      "cell_type": "code",
      "execution_count": 203,
      "metadata": {
        "id": "OU8W-PqygdUn"
      },
      "outputs": [],
      "source": [
        "import pandas as pd\n",
        "import numpy as np\n",
        "import sklearn\n",
        "import seaborn as sns\n",
        "import matplotlib.pyplot as plt\n",
        "from sklearn.linear_model import SGDRegressor\n",
        "from sklearn.linear_model import LinearRegression\n",
        "from sklearn.neighbors import KNeighborsRegressor\n",
        "from sklearn import preprocessing\n",
        "from sklearn.metrics import mean_squared_error\n",
        "from sklearn.metrics import mean_absolute_error\n",
        "from numpy import random\n",
        "from sklearn.model_selection import train_test_split\n",
        "from sklearn.metrics import mean_absolute_percentage_error\n",
        "from scipy.stats import pearsonr\n",
        "from scipy.stats import spearmanr\n",
        "from sklearn.pipeline import make_pipeline\n",
        "from sklearn.ensemble import GradientBoostingRegressor\n",
        "from sklearn.decomposition import PCA\n",
        "from sklearn.metrics import mean_absolute_percentage_error\n",
        "from sklearn.metrics import r2_score\n",
        "from sklearn import datasets\n",
        "from sklearn.preprocessing import StandardScaler"
      ]
    },
    {
      "cell_type": "code",
      "source": [
        "df = pd.read_csv('property.csv')\n"
      ],
      "metadata": {
        "id": "9mDYCKvEkWfQ"
      },
      "execution_count": 204,
      "outputs": []
    },
    {
      "cell_type": "markdown",
      "source": [
        "# Data Fixing"
      ],
      "metadata": {
        "id": "zL2KiRTUYuO5"
      }
    },
    {
      "cell_type": "code",
      "source": [
        "#Shrinking the pnd column to have smallest amount of unique values\n",
        "df['PrimaryNeighborhoodDescription'].unique()\n",
        "pndlist = []\n",
        "for i in df['PrimaryNeighborhoodDescription']:\n",
        "  if i == 'south end':\n",
        "    pndlist.append('SO.END')\n",
        "  elif i == 'southern end':\n",
        "    pndlist.append('south end')\n",
        "  elif i == 'NEW NO END':\n",
        "    pndlist.append('new north end')\n",
        "  elif i == 'SO HILL SECT':\n",
        "    pndlist.append('southern hill')\n",
        "  elif i == 'DOWNTOWN':\n",
        "    pndlist.append('downtown')\n",
        "  elif i == 'UNIV HILL':\n",
        "    pndlist.append('UVM hill area')\n",
        "  elif i == 'OLD NO END':\n",
        "    pndlist.append('old north end')\n",
        "  else:\n",
        "    pndlist.append(i)\n",
        "\n",
        "df['PrimaryNeighborhoodDescription'] = pndlist\n",
        "df['PrimaryNeighborhoodDescription'].unique()"
      ],
      "metadata": {
        "colab": {
          "base_uri": "https://localhost:8080/"
        },
        "id": "Sld5NzV9dS_W",
        "outputId": "ee0586fd-cfd9-438a-81c3-a1fd6a3a204a"
      },
      "execution_count": 205,
      "outputs": [
        {
          "output_type": "execute_result",
          "data": {
            "text/plain": [
              "array(['new north end', 'INTERVALE', 'old north end', 'NRTH AVE EXT',\n",
              "       'NNE MIDRANGE', 'NNE WATERVIEW', 'NNE Small Complex',\n",
              "       'NNE BASE COMPLEX', 'waterfront', 'Starr Farm Beach', '0',\n",
              "       'WATERFRONT', 'lakeview tr', 'DWT SMALL COMPLEX', 'northern hill',\n",
              "       'RIVERSIDE AV', 'NORTH ST', 'DWT WATERVIEW', 'DWT MIDRANGE',\n",
              "       'DWT BASE COMPLEX', 'CBD', 'DOWNTN APTS', 'HILL APTS',\n",
              "       'CHURCH ST MK', 'downtown', 'southern hill', 'UVM hill area',\n",
              "       'UVM CAMPUS', 'SO.END', 'south end', 'DWT MID LEVEL',\n",
              "       'SE SAMLL COMPLEX', 'SE MIDRANGE', 'INDUSTRIAL P', 'SHELBURNE ST',\n",
              "       'DWT HIGH END', 'SE WATERFRONT', 'SE BASE COMPLEX', 'SE HIGN END',\n",
              "       'DWT MED/HIGH END', 'RCO ZONE', 'EAST AVENUE'], dtype=object)"
            ]
          },
          "metadata": {},
          "execution_count": 205
        }
      ]
    },
    {
      "cell_type": "code",
      "source": [
        "#Fixing LastSaleDate and StoryHeight Columns\n",
        "#df.dtypes\n",
        "df['YearBuilt'] = df['YearBuilt'].fillna(0).astype(int)\n",
        "df['LastSaleDate'] = pd.to_datetime(df['LastSaleDate'])\n",
        "df.dtypes\n",
        "#df['StoryHeight'].unique()\n",
        "story = []\n",
        "\n",
        "for i in df['StoryHeight']:\n",
        "\n",
        "  if i == 'Two Sty':\n",
        "    story.append('2')\n",
        "    \n",
        "  elif i== 'One Sty':\n",
        "    story.append('1')\n",
        "    \n",
        "  elif i == 'Three Sty':\n",
        "    story.append('3')\n",
        "    \n",
        "  elif i == 'Four Sty':\n",
        "    story.append('4')\n",
        "    \n",
        "  elif i == 'Five Sty':\n",
        "    story.append('5')\n",
        "    \n",
        "  elif i == 'Six Sty':\n",
        "    story.append('6')\n",
        "    \n",
        "  elif i == '9 Story':\n",
        "    story.append('9')\n",
        "  \n",
        "  elif i == '4 story':\n",
        "    story.append('4')\n",
        "    \n",
        "  elif i == '4 Story':\n",
        "    story.append('4')\n",
        "   \n",
        "  elif i == '7 Story':\n",
        "    story.append('7')\n",
        "    \n",
        "  elif i == '6 Story':\n",
        "    story.append('6')\n",
        "    \n",
        "  elif i == '5 Stories':\n",
        "    story.append('5')\n",
        "   \n",
        "  elif i == '8 Story':\n",
        "    story.append('8')\n",
        "    \n",
        "  else:\n",
        "      story.append(i)\n",
        "df['StoryHeight'] = story\n",
        "df['StoryHeight'] = df['StoryHeight'].astype(float)\n",
        "df['StoryHeight']\n",
        "#story"
      ],
      "metadata": {
        "colab": {
          "base_uri": "https://localhost:8080/"
        },
        "id": "B5wy15aKYxPM",
        "outputId": "801befa4-3e07-4765-b8dd-09f47ae40edb"
      },
      "execution_count": 206,
      "outputs": [
        {
          "output_type": "execute_result",
          "data": {
            "text/plain": [
              "0        1.50\n",
              "1         NaN\n",
              "2        1.50\n",
              "3        2.00\n",
              "4        1.75\n",
              "         ... \n",
              "11403    1.00\n",
              "11404    1.00\n",
              "11405    1.00\n",
              "11406    4.00\n",
              "11407    1.00\n",
              "Name: StoryHeight, Length: 11408, dtype: float64"
            ]
          },
          "metadata": {},
          "execution_count": 206
        }
      ]
    },
    {
      "cell_type": "code",
      "source": [
        "#fixing number columns to remove unneccessary characters\n",
        "df['BuildingValue'] = df['BuildingValue'].astype(str)\n",
        "df['BuildingValue'] = df['BuildingValue'].str.replace(',','')\n",
        "df['BuildingValue'] = df['BuildingValue'].str.replace('$','')\n",
        "df['BuildingValue'] = df['BuildingValue'].astype(float)\n",
        "######\n",
        "df['LandValue'] = df['LandValue'].astype(str)\n",
        "df['LandValue'] = df['LandValue'].str.replace(',','')\n",
        "df['LandValue'] = df['LandValue'].str.replace('$','')\n",
        "df['LandValue'] = df['LandValue'].astype(float)\n",
        "######\n",
        "\n",
        "########\n",
        "df['LastSaleAmount'] = df['LastSaleAmount'].astype(str)\n",
        "df['LastSaleAmount'] = df['LastSaleAmount'].str.replace(',','')\n",
        "df['LastSaleAmount'] = df['LastSaleAmount'].str.replace('$','')\n",
        "df['LastSaleAmount'] = df['LastSaleAmount'].astype(float)\n",
        "########\n",
        "#square feet removal\n",
        "########\n",
        "df['LotSqFeet'] = df['LotSqFeet'].astype(str)\n",
        "df['LotSqFeet'] = df['LotSqFeet'].str.replace(' sqft','')\n",
        "df['LotSqFeet'] = df['LotSqFeet'].str.replace(',','')\n",
        "df['LotSqFeet'] = df['LotSqFeet'].astype(int)\n",
        "#########\n",
        "df['BuildingGrossAreaSF'] = df['BuildingGrossAreaSF'].astype(str)\n",
        "df['BuildingGrossAreaSF'] = df['BuildingGrossAreaSF'].str.replace(' sqft','')\n",
        "df['BuildingGrossAreaSF'] = df['BuildingGrossAreaSF'].str.replace(',','')\n",
        "df['BuildingGrossAreaSF'] = df['BuildingGrossAreaSF'].astype(int)\n",
        "#########\n",
        "#########\n",
        "df['BuildingFinishedSf'] = df['BuildingFinishedSf'].astype(str)\n",
        "df['BuildingFinishedSf'] = df['BuildingFinishedSf'].str.replace(' sqft','')\n",
        "df['BuildingFinishedSf'] = df['BuildingFinishedSf'].str.replace(',','')\n",
        "df['BuildingFinishedSf'] = df['BuildingFinishedSf'].astype(int)"
      ],
      "metadata": {
        "colab": {
          "base_uri": "https://localhost:8080/"
        },
        "id": "3FZggk9Hd6Hd",
        "outputId": "e01293e9-4ef0-40a8-9456-3118ca93c9d5"
      },
      "execution_count": 207,
      "outputs": [
        {
          "output_type": "stream",
          "name": "stderr",
          "text": [
            "/usr/local/lib/python3.7/dist-packages/ipykernel_launcher.py:4: FutureWarning: The default value of regex will change from True to False in a future version. In addition, single character regular expressions will *not* be treated as literal strings when regex=True.\n",
            "  after removing the cwd from sys.path.\n",
            "/usr/local/lib/python3.7/dist-packages/ipykernel_launcher.py:9: FutureWarning: The default value of regex will change from True to False in a future version. In addition, single character regular expressions will *not* be treated as literal strings when regex=True.\n",
            "  if __name__ == '__main__':\n",
            "/usr/local/lib/python3.7/dist-packages/ipykernel_launcher.py:16: FutureWarning: The default value of regex will change from True to False in a future version. In addition, single character regular expressions will *not* be treated as literal strings when regex=True.\n",
            "  app.launch_new_instance()\n"
          ]
        }
      ]
    },
    {
      "cell_type": "code",
      "source": [
        "#Adding numeric scale to physical condition\n",
        "#print(df['PhysicalCondition'].unique())\n",
        "nums = []\n",
        "for i in df['PhysicalCondition']:\n",
        "  if i == 'Fair':\n",
        "    nums.append(1)\n",
        "  elif i == 'Fair-Avg':\n",
        "    nums.append(2)\n",
        "  elif i == 'Average':\n",
        "    nums.append(3)\n",
        "  elif i == 'Avg-Good':\n",
        "    nums.append(4)\n",
        "  elif i == 'Good':\n",
        "    nums.append(5)\n",
        "  elif i == 'Good-VG':\n",
        "    nums.append(6)\n",
        "  else:\n",
        "    nums.append(7)\n",
        "df['PhysicalCondition'] = nums\n",
        "df['PhysicalCondition'] = df['PhysicalCondition'].astype(int)\n",
        "df['PhysicalCondition'].sample(20)"
      ],
      "metadata": {
        "colab": {
          "base_uri": "https://localhost:8080/"
        },
        "id": "jzxsMUIHeAJI",
        "outputId": "3f325bd8-cea8-47fb-9b84-89caace00b0c"
      },
      "execution_count": 208,
      "outputs": [
        {
          "output_type": "execute_result",
          "data": {
            "text/plain": [
              "2098     3\n",
              "7731     3\n",
              "7164     7\n",
              "7725     3\n",
              "10692    4\n",
              "9735     5\n",
              "7828     3\n",
              "7474     3\n",
              "9111     3\n",
              "10293    5\n",
              "8150     3\n",
              "6165     3\n",
              "96       3\n",
              "236      3\n",
              "3146     3\n",
              "4438     5\n",
              "5673     4\n",
              "1029     5\n",
              "7929     3\n",
              "2199     3\n",
              "Name: PhysicalCondition, dtype: int64"
            ]
          },
          "metadata": {},
          "execution_count": 208
        }
      ]
    },
    {
      "cell_type": "code",
      "source": [
        "quantitative = [f for f in df.columns if df.dtypes[f] != 'object']\n",
        "quantitative"
      ],
      "metadata": {
        "colab": {
          "base_uri": "https://localhost:8080/"
        },
        "id": "1BcrPDY3eWr7",
        "outputId": "f265e5f8-6e30-4fc0-948d-cf6c5d9f51bf"
      },
      "execution_count": 209,
      "outputs": [
        {
          "output_type": "execute_result",
          "data": {
            "text/plain": [
              "['PropertyId',\n",
              " 'LastSaleDate',\n",
              " 'LastSaleAmount',\n",
              " 'LotSqFeet',\n",
              " 'BuildingValue',\n",
              " 'LandValue',\n",
              " 'BuildingNo',\n",
              " 'YearBuilt',\n",
              " 'StoryHeight',\n",
              " 'BuildingGrossAreaSF',\n",
              " 'BuildingFinishedSf',\n",
              " 'TotalRooms',\n",
              " 'Bedrooms',\n",
              " 'FullBaths',\n",
              " 'HalfBaths',\n",
              " 'ResidentialUnits',\n",
              " 'CommercialUnits',\n",
              " 'PhysicalCondition',\n",
              " 'DepreciationPct']"
            ]
          },
          "metadata": {},
          "execution_count": 209
        }
      ]
    },
    {
      "cell_type": "code",
      "source": [
        "#dropping columns \n",
        "#df = df.drop(columns=['TaxParcelId', 'VermontSPAN', 'StreetAddressFormatted', 'PrimaryLandUseCode', 'FoundationType', 'Quality'])\n"
      ],
      "metadata": {
        "id": "FPAEL6XLfl_s"
      },
      "execution_count": 210,
      "outputs": []
    },
    {
      "cell_type": "markdown",
      "source": [
        "# Model Building"
      ],
      "metadata": {
        "id": "eMzruGZWg-nA"
      }
    },
    {
      "cell_type": "code",
      "source": [
        "df_numerics_only = df.select_dtypes(include=np.number)\n",
        "df_numerics_only = df_numerics_only.drop(columns=['BuildingValue'])"
      ],
      "metadata": {
        "id": "YRYCa4JJhi_3"
      },
      "execution_count": 211,
      "outputs": []
    },
    {
      "cell_type": "code",
      "source": [
        ""
      ],
      "metadata": {
        "id": "DRwwHNJChBsq"
      },
      "execution_count": 211,
      "outputs": []
    },
    {
      "cell_type": "code",
      "source": [
        "df_numerics_only.isnull().sum(axis = 0)"
      ],
      "metadata": {
        "colab": {
          "base_uri": "https://localhost:8080/"
        },
        "id": "zvPDCQ6rnrBQ",
        "outputId": "399051b1-2a6f-4108-a214-754a756d4138"
      },
      "execution_count": 212,
      "outputs": [
        {
          "output_type": "execute_result",
          "data": {
            "text/plain": [
              "PropertyId                 0\n",
              "LastSaleAmount          2688\n",
              "LotSqFeet                  0\n",
              "LandValue                  0\n",
              "BuildingNo                 0\n",
              "YearBuilt                  0\n",
              "StoryHeight              387\n",
              "BuildingGrossAreaSF        0\n",
              "BuildingFinishedSf         0\n",
              "TotalRooms                 0\n",
              "Bedrooms                   0\n",
              "FullBaths                  0\n",
              "HalfBaths                  0\n",
              "ResidentialUnits        1195\n",
              "CommercialUnits        10438\n",
              "PhysicalCondition          0\n",
              "DepreciationPct            0\n",
              "dtype: int64"
            ]
          },
          "metadata": {},
          "execution_count": 212
        }
      ]
    },
    {
      "cell_type": "code",
      "source": [
        "df_numerics_only = df_numerics_only.drop(columns=['ResidentialUnits', 'CommercialUnits'])\n",
        "\n",
        "df_numerics_only['StoryHeight'] = df_numerics_only['StoryHeight'].fillna(1)\n"
      ],
      "metadata": {
        "id": "c0yikT0Qn8zu"
      },
      "execution_count": 213,
      "outputs": []
    },
    {
      "cell_type": "code",
      "source": [
        "df_numerics_only.mean()"
      ],
      "metadata": {
        "colab": {
          "base_uri": "https://localhost:8080/"
        },
        "id": "W0OOkzoJvQxb",
        "outputId": "11b5c215-0934-459d-df09-230bedff1688"
      },
      "execution_count": 214,
      "outputs": [
        {
          "output_type": "execute_result",
          "data": {
            "text/plain": [
              "PropertyId               5619.044968\n",
              "LastSaleAmount         454221.033097\n",
              "LotSqFeet               39399.466602\n",
              "LandValue              217904.988604\n",
              "BuildingNo                  1.112027\n",
              "YearBuilt                1880.528138\n",
              "StoryHeight                 1.725802\n",
              "BuildingGrossAreaSF      5750.646476\n",
              "BuildingFinishedSf       3478.175403\n",
              "TotalRooms                  5.832311\n",
              "Bedrooms                    2.818548\n",
              "FullBaths                   2.264288\n",
              "HalfBaths                   0.633065\n",
              "PhysicalCondition           3.686360\n",
              "DepreciationPct            25.297557\n",
              "dtype: float64"
            ]
          },
          "metadata": {},
          "execution_count": 214
        }
      ]
    },
    {
      "cell_type": "code",
      "source": [
        "\n",
        "df_numerics_only['LastSaleAmount'] = df_numerics_only['LastSaleAmount'].fillna(454221)"
      ],
      "metadata": {
        "id": "JS6rH7M5tdo0"
      },
      "execution_count": 218,
      "outputs": []
    },
    {
      "cell_type": "code",
      "source": [
        "Y = df['BuildingValue']\n",
        "X = df_numerics_only\n",
        "X_train, X_test, Y_train, Y_test = train_test_split(X, Y, test_size=0.3)\n",
        "X_test=np.array(X_test)\n",
        "X_test=np.array(X_test)"
      ],
      "metadata": {
        "id": "iQDqH4x4qhT3"
      },
      "execution_count": 221,
      "outputs": []
    },
    {
      "cell_type": "code",
      "source": [
        "df_numerics_only['LastSaleAmount']"
      ],
      "metadata": {
        "colab": {
          "base_uri": "https://localhost:8080/"
        },
        "id": "eFSOkU4kuiL2",
        "outputId": "312d077f-240b-4df2-a11b-8b72f68aeffb"
      },
      "execution_count": 222,
      "outputs": [
        {
          "output_type": "execute_result",
          "data": {
            "text/plain": [
              "0         454221.0\n",
              "1          16255.0\n",
              "2         454221.0\n",
              "3         454221.0\n",
              "4         454221.0\n",
              "           ...    \n",
              "11403     175000.0\n",
              "11404     175000.0\n",
              "11405      76000.0\n",
              "11406    1000000.0\n",
              "11407     500000.0\n",
              "Name: LastSaleAmount, Length: 11408, dtype: float64"
            ]
          },
          "metadata": {},
          "execution_count": 222
        }
      ]
    },
    {
      "cell_type": "code",
      "source": [
        "#SGD Regressor\n",
        "n_iter=1000\n",
        "#clf_ = SGDRegressor(max_iter=n_iter)\n",
        "clf = KNeighborsRegressor(n_neighbors=1)\n",
        "#clf = LinearRegression()\n",
        "clf_.fit(X_train.values, Y_train.values)\n",
        "\n",
        "y_pred_sksgd=clf_.predict(X_test)\n",
        "plt.scatter(Y_test,y_pred_sksgd)\n",
        "plt.grid()\n",
        "plt.xlabel('Actual y')\n",
        "plt.ylabel('Predicted y')\n",
        "plt.title('Scatter plot from actual y and predicted y')\n",
        "plt.show()\n",
        "\n",
        "print('Mean Absolute percentage Error :',mean_absolute_percentage_error(Y_test, y_pred_sksgd))\n",
        "print('Mean Absolute Error :',mean_absolute_error(Y_test, y_pred_sksgd))\n",
        "print('r2 score is :', r2_score(Y_test, y_pred_sksgd))\n",
        "print('y is:', Y_test)\n",
        "print('predicted was:', y_pred_sksgd)"
      ],
      "metadata": {
        "colab": {
          "base_uri": "https://localhost:8080/",
          "height": 590
        },
        "id": "uu1IwvcGh8Q-",
        "outputId": "6c1c9d48-a7bd-496c-9014-7bb0822bc33e"
      },
      "execution_count": 223,
      "outputs": [
        {
          "output_type": "display_data",
          "data": {
            "text/plain": [
              "<Figure size 432x288 with 1 Axes>"
            ],
            "image/png": "[encoded data removed]"
          },
          "metadata": {
            "needs_background": "light"
          }
        },
        {
          "output_type": "stream",
          "name": "stdout",
          "text": [
            "Mean Absolute percentage Error : 3.700084325945918e+34\n",
            "Mean Absolute Error : 1.594342192131708e+20\n",
            "r2 score is : -3.759785013209948e+26\n",
            "y is: 7550     2204000.0\n",
            "10242    5545700.0\n",
            "1887      381000.0\n",
            "6673      651100.0\n",
            "8061      246000.0\n",
            "           ...    \n",
            "5424      281200.0\n",
            "3215      521000.0\n",
            "3254     4944900.0\n",
            "610       223100.0\n",
            "5969      293700.0\n",
            "Name: BuildingValue, Length: 3423, dtype: float64\n",
            "predicted was: [1.23067461e+20 3.60970360e+20 3.23849839e+19 ... 2.69288690e+20\n",
            " 9.38298427e+19 6.03212967e+19]\n"
          ]
        }
      ]
    },
    {
      "cell_type": "code",
      "source": [
        ""
      ],
      "metadata": {
        "id": "xif72EbOqUC4"
      },
      "execution_count": null,
      "outputs": []
    },
    {
      "cell_type": "markdown",
      "source": [
        "#Data Exploration"
      ],
      "metadata": {
        "id": "pBYyxh3lWcr4"
      }
    },
    {
      "cell_type": "code",
      "source": [
        "corr = df[quantitative+['BuildingValue']].corr()\n",
        "sns.heatmap(corr)"
      ],
      "metadata": {
        "id": "H08zPWsiWiG2"
      },
      "execution_count": null,
      "outputs": []
    }
  ]
}