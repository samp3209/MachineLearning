{
  "nbformat": 4,
  "nbformat_minor": 0,
  "metadata": {
    "colab": {
      "name": "MLFinalProject.ipynb",
      "provenance": [],
      "collapsed_sections": [
        "pBYyxh3lWcr4"
      ],
      "toc_visible": true,
      "authorship_tag": "ABX9TyPk3dHMmO+9S+S8L1ny63e2",
      "include_colab_link": true
    },
    "kernelspec": {
      "name": "python3",
      "display_name": "Python 3"
    },
    "language_info": {
      "name": "python"
    }
  },
  "cells": [
    {
      "cell_type": "markdown",
      "metadata": {
        "id": "view-in-github",
        "colab_type": "text"
      },
      "source": [
        "<a href=\"https://colab.research.google.com/github/samp3209/MachineLearning/blob/main/MLFinalProject.ipynb\" target=\"_parent\"><img src=\"https://colab.research.google.com/assets/colab-badge.svg\" alt=\"Open In Colab\"/></a>"
      ]
    },
    {
      "cell_type": "markdown",
      "source": [
        "# Imports\n"
      ],
      "metadata": {
        "id": "lgkiFfJlWKkx"
      }
    },
    {
      "cell_type": "code",
      "execution_count": 113,
      "metadata": {
        "id": "OU8W-PqygdUn"
      },
      "outputs": [],
      "source": [
        "import pandas as pd\n",
        "import numpy as np\n",
        "import sklearn\n",
        "import seaborn as sns\n",
        "import matplotlib.pyplot as plt\n",
        "from sklearn.linear_model import SGDRegressor\n",
        "from sklearn.linear_model import LinearRegression\n",
        "from sklearn.neighbors import KNeighborsRegressor\n",
        "from sklearn import preprocessing\n",
        "from sklearn.metrics import mean_squared_error\n",
        "from sklearn.metrics import mean_absolute_error\n",
        "from numpy import random\n",
        "from sklearn.model_selection import train_test_split\n",
        "from sklearn.metrics import mean_absolute_percentage_error\n",
        "from scipy.stats import pearsonr\n",
        "from scipy.stats import spearmanr\n",
        "from sklearn.pipeline import make_pipeline\n",
        "from sklearn.ensemble import GradientBoostingRegressor\n",
        "from sklearn.decomposition import PCA\n",
        "from sklearn.metrics import mean_absolute_percentage_error\n",
        "from sklearn.metrics import r2_score\n",
        "from sklearn import datasets\n",
        "from sklearn.preprocessing import StandardScaler"
      ]
    },
    {
      "cell_type": "code",
      "source": [
        "df = pd.read_csv('property.csv')\n"
      ],
      "metadata": {
        "id": "9mDYCKvEkWfQ"
      },
      "execution_count": 114,
      "outputs": []
    },
    {
      "cell_type": "markdown",
      "source": [
        "# Data Fixing"
      ],
      "metadata": {
        "id": "zL2KiRTUYuO5"
      }
    },
    {
      "cell_type": "code",
      "source": [
        "#Shrinking the pnd column to have smallest amount of unique values\n",
        "df['PrimaryNeighborhoodDescription'].unique()\n",
        "pndlist = []\n",
        "for i in df['PrimaryNeighborhoodDescription']:\n",
        "  if i == 'south end':\n",
        "    pndlist.append('SO.END')\n",
        "  elif i == 'southern end':\n",
        "    pndlist.append('south end')\n",
        "  elif i == 'NEW NO END':\n",
        "    pndlist.append('new north end')\n",
        "  elif i == 'SO HILL SECT':\n",
        "    pndlist.append('southern hill')\n",
        "  elif i == 'DOWNTOWN':\n",
        "    pndlist.append('downtown')\n",
        "  elif i == 'UNIV HILL':\n",
        "    pndlist.append('UVM hill area')\n",
        "  elif i == 'OLD NO END':\n",
        "    pndlist.append('old north end')\n",
        "  else:\n",
        "    pndlist.append(i)\n",
        "\n",
        "df['PrimaryNeighborhoodDescription'] = pndlist\n",
        "df['PrimaryNeighborhoodDescription'].unique()"
      ],
      "metadata": {
        "colab": {
          "base_uri": "https://localhost:8080/"
        },
        "id": "Sld5NzV9dS_W",
        "outputId": "4210681d-9e30-444d-b247-8e6ef8d6344e"
      },
      "execution_count": 115,
      "outputs": [
        {
          "output_type": "execute_result",
          "data": {
            "text/plain": [
              "array(['new north end', 'INTERVALE', 'old north end', 'NRTH AVE EXT',\n",
              "       'NNE MIDRANGE', 'NNE WATERVIEW', 'NNE Small Complex',\n",
              "       'NNE BASE COMPLEX', 'waterfront', 'Starr Farm Beach', '0',\n",
              "       'WATERFRONT', 'lakeview tr', 'DWT SMALL COMPLEX', 'northern hill',\n",
              "       'RIVERSIDE AV', 'NORTH ST', 'DWT WATERVIEW', 'DWT MIDRANGE',\n",
              "       'DWT BASE COMPLEX', 'CBD', 'DOWNTN APTS', 'HILL APTS',\n",
              "       'CHURCH ST MK', 'downtown', 'southern hill', 'UVM hill area',\n",
              "       'UVM CAMPUS', 'SO.END', 'south end', 'DWT MID LEVEL',\n",
              "       'SE SAMLL COMPLEX', 'SE MIDRANGE', 'INDUSTRIAL P', 'SHELBURNE ST',\n",
              "       'DWT HIGH END', 'SE WATERFRONT', 'SE BASE COMPLEX', 'SE HIGN END',\n",
              "       'DWT MED/HIGH END', 'RCO ZONE', 'EAST AVENUE'], dtype=object)"
            ]
          },
          "metadata": {},
          "execution_count": 115
        }
      ]
    },
    {
      "cell_type": "code",
      "source": [
        "#Fixing LastSaleDate and StoryHeight Columns\n",
        "#df.dtypes\n",
        "df['YearBuilt'] = df['YearBuilt'].fillna(0).astype(int)\n",
        "df['LastSaleDate'] = pd.to_datetime(df['LastSaleDate'])\n",
        "df.dtypes\n",
        "#df['StoryHeight'].unique()\n",
        "story = []\n",
        "\n",
        "for i in df['StoryHeight']:\n",
        "\n",
        "  if i == 'Two Sty':\n",
        "    story.append('2')\n",
        "    \n",
        "  elif i== 'One Sty':\n",
        "    story.append('1')\n",
        "    \n",
        "  elif i == 'Three Sty':\n",
        "    story.append('3')\n",
        "    \n",
        "  elif i == 'Four Sty':\n",
        "    story.append('4')\n",
        "    \n",
        "  elif i == 'Five Sty':\n",
        "    story.append('5')\n",
        "    \n",
        "  elif i == 'Six Sty':\n",
        "    story.append('6')\n",
        "    \n",
        "  elif i == '9 Story':\n",
        "    story.append('9')\n",
        "  \n",
        "  elif i == '4 story':\n",
        "    story.append('4')\n",
        "    \n",
        "  elif i == '4 Story':\n",
        "    story.append('4')\n",
        "   \n",
        "  elif i == '7 Story':\n",
        "    story.append('7')\n",
        "    \n",
        "  elif i == '6 Story':\n",
        "    story.append('6')\n",
        "    \n",
        "  elif i == '5 Stories':\n",
        "    story.append('5')\n",
        "   \n",
        "  elif i == '8 Story':\n",
        "    story.append('8')\n",
        "    \n",
        "  else:\n",
        "      story.append(i)\n",
        "df['StoryHeight'] = story\n",
        "df['StoryHeight'] = df['StoryHeight'].astype(float)\n",
        "df['StoryHeight']\n",
        "#story"
      ],
      "metadata": {
        "colab": {
          "base_uri": "https://localhost:8080/"
        },
        "id": "B5wy15aKYxPM",
        "outputId": "f946194c-448d-40e0-a7b1-790ecabd975d"
      },
      "execution_count": 116,
      "outputs": [
        {
          "output_type": "execute_result",
          "data": {
            "text/plain": [
              "0        1.50\n",
              "1         NaN\n",
              "2        1.50\n",
              "3        2.00\n",
              "4        1.75\n",
              "         ... \n",
              "11403    1.00\n",
              "11404    1.00\n",
              "11405    1.00\n",
              "11406    4.00\n",
              "11407    1.00\n",
              "Name: StoryHeight, Length: 11408, dtype: float64"
            ]
          },
          "metadata": {},
          "execution_count": 116
        }
      ]
    },
    {
      "cell_type": "code",
      "source": [
        "#fixing number columns to remove unneccessary characters\n",
        "df['BuildingValue'] = df['BuildingValue'].astype(str)\n",
        "df['BuildingValue'] = df['BuildingValue'].str.replace(',','')\n",
        "df['BuildingValue'] = df['BuildingValue'].str.replace('$','')\n",
        "df['BuildingValue'] = df['BuildingValue'].astype(float)\n",
        "######\n",
        "df['LandValue'] = df['LandValue'].astype(str)\n",
        "df['LandValue'] = df['LandValue'].str.replace(',','')\n",
        "df['LandValue'] = df['LandValue'].str.replace('$','')\n",
        "df['LandValue'] = df['LandValue'].astype(float)\n",
        "######\n",
        "\n",
        "########\n",
        "df['LastSaleAmount'] = df['LastSaleAmount'].astype(str)\n",
        "df['LastSaleAmount'] = df['LastSaleAmount'].str.replace(',','')\n",
        "df['LastSaleAmount'] = df['LastSaleAmount'].str.replace('$','')\n",
        "df['LastSaleAmount'] = df['LastSaleAmount'].astype(float)\n",
        "########\n",
        "#square feet removal\n",
        "########\n",
        "df['LotSqFeet'] = df['LotSqFeet'].astype(str)\n",
        "df['LotSqFeet'] = df['LotSqFeet'].str.replace(' sqft','')\n",
        "df['LotSqFeet'] = df['LotSqFeet'].str.replace(',','')\n",
        "df['LotSqFeet'] = df['LotSqFeet'].astype(int)\n",
        "#########\n",
        "df['BuildingGrossAreaSF'] = df['BuildingGrossAreaSF'].astype(str)\n",
        "df['BuildingGrossAreaSF'] = df['BuildingGrossAreaSF'].str.replace(' sqft','')\n",
        "df['BuildingGrossAreaSF'] = df['BuildingGrossAreaSF'].str.replace(',','')\n",
        "df['BuildingGrossAreaSF'] = df['BuildingGrossAreaSF'].astype(int)\n",
        "#########\n",
        "#########\n",
        "df['BuildingFinishedSf'] = df['BuildingFinishedSf'].astype(str)\n",
        "df['BuildingFinishedSf'] = df['BuildingFinishedSf'].str.replace(' sqft','')\n",
        "df['BuildingFinishedSf'] = df['BuildingFinishedSf'].str.replace(',','')\n",
        "df['BuildingFinishedSf'] = df['BuildingFinishedSf'].astype(int)"
      ],
      "metadata": {
        "colab": {
          "base_uri": "https://localhost:8080/"
        },
        "id": "3FZggk9Hd6Hd",
        "outputId": "8f5bc057-1aed-4425-e72d-8c9ce1d729e2"
      },
      "execution_count": 117,
      "outputs": [
        {
          "output_type": "stream",
          "name": "stderr",
          "text": [
            "/usr/local/lib/python3.7/dist-packages/ipykernel_launcher.py:4: FutureWarning: The default value of regex will change from True to False in a future version. In addition, single character regular expressions will *not* be treated as literal strings when regex=True.\n",
            "  after removing the cwd from sys.path.\n",
            "/usr/local/lib/python3.7/dist-packages/ipykernel_launcher.py:9: FutureWarning: The default value of regex will change from True to False in a future version. In addition, single character regular expressions will *not* be treated as literal strings when regex=True.\n",
            "  if __name__ == '__main__':\n",
            "/usr/local/lib/python3.7/dist-packages/ipykernel_launcher.py:16: FutureWarning: The default value of regex will change from True to False in a future version. In addition, single character regular expressions will *not* be treated as literal strings when regex=True.\n",
            "  app.launch_new_instance()\n"
          ]
        }
      ]
    },
    {
      "cell_type": "code",
      "source": [
        "#Adding numeric scale to physical condition\n",
        "#print(df['PhysicalCondition'].unique())\n",
        "nums = []\n",
        "for i in df['PhysicalCondition']:\n",
        "  if i == 'Fair':\n",
        "    nums.append(1)\n",
        "  elif i == 'Fair-Avg':\n",
        "    nums.append(2)\n",
        "  elif i == 'Average':\n",
        "    nums.append(3)\n",
        "  elif i == 'Avg-Good':\n",
        "    nums.append(4)\n",
        "  elif i == 'Good':\n",
        "    nums.append(5)\n",
        "  elif i == 'Good-VG':\n",
        "    nums.append(6)\n",
        "  else:\n",
        "    nums.append(7)\n",
        "df['PhysicalCondition'] = nums\n",
        "df['PhysicalCondition'] = df['PhysicalCondition'].astype(int)\n",
        "df['PhysicalCondition'].sample(20)"
      ],
      "metadata": {
        "colab": {
          "base_uri": "https://localhost:8080/"
        },
        "id": "jzxsMUIHeAJI",
        "outputId": "986a488f-b56c-438b-8cf4-1c15f4018c69"
      },
      "execution_count": 118,
      "outputs": [
        {
          "output_type": "execute_result",
          "data": {
            "text/plain": [
              "1533     3\n",
              "9425     5\n",
              "7754     2\n",
              "8065     5\n",
              "9145     1\n",
              "2371     7\n",
              "10618    3\n",
              "630      5\n",
              "4673     3\n",
              "5031     3\n",
              "3139     4\n",
              "9880     3\n",
              "3702     4\n",
              "2030     3\n",
              "6140     3\n",
              "11231    7\n",
              "1858     3\n",
              "5152     3\n",
              "2606     3\n",
              "7087     3\n",
              "Name: PhysicalCondition, dtype: int64"
            ]
          },
          "metadata": {},
          "execution_count": 118
        }
      ]
    },
    {
      "cell_type": "code",
      "source": [
        "quantitative = [f for f in df.columns if df.dtypes[f] != 'object']\n",
        "quantitative"
      ],
      "metadata": {
        "colab": {
          "base_uri": "https://localhost:8080/"
        },
        "id": "1BcrPDY3eWr7",
        "outputId": "0863b85f-deb8-4915-c48a-97fe90963043"
      },
      "execution_count": 119,
      "outputs": [
        {
          "output_type": "execute_result",
          "data": {
            "text/plain": [
              "['PropertyId',\n",
              " 'LastSaleDate',\n",
              " 'LastSaleAmount',\n",
              " 'LotSqFeet',\n",
              " 'BuildingValue',\n",
              " 'LandValue',\n",
              " 'BuildingNo',\n",
              " 'YearBuilt',\n",
              " 'StoryHeight',\n",
              " 'BuildingGrossAreaSF',\n",
              " 'BuildingFinishedSf',\n",
              " 'TotalRooms',\n",
              " 'Bedrooms',\n",
              " 'FullBaths',\n",
              " 'HalfBaths',\n",
              " 'ResidentialUnits',\n",
              " 'CommercialUnits',\n",
              " 'PhysicalCondition',\n",
              " 'DepreciationPct']"
            ]
          },
          "metadata": {},
          "execution_count": 119
        }
      ]
    },
    {
      "cell_type": "code",
      "source": [
        "#dropping columns \n",
        "#df = df.drop(columns=['TaxParcelId', 'VermontSPAN', 'StreetAddressFormatted', 'PrimaryLandUseCode', 'FoundationType', 'Quality'])\n"
      ],
      "metadata": {
        "id": "FPAEL6XLfl_s"
      },
      "execution_count": 120,
      "outputs": []
    },
    {
      "cell_type": "markdown",
      "source": [
        "# Model Building"
      ],
      "metadata": {
        "id": "eMzruGZWg-nA"
      }
    },
    {
      "cell_type": "code",
      "source": [
        "df_numerics_only = df.select_dtypes(include=np.number)\n",
        "df_numerics_only = df_numerics_only.drop(columns=['BuildingValue'])"
      ],
      "metadata": {
        "id": "YRYCa4JJhi_3"
      },
      "execution_count": 121,
      "outputs": []
    },
    {
      "cell_type": "code",
      "source": [
        ""
      ],
      "metadata": {
        "id": "DRwwHNJChBsq"
      },
      "execution_count": 121,
      "outputs": []
    },
    {
      "cell_type": "code",
      "source": [
        "df_numerics_only.isnull().sum(axis = 0)"
      ],
      "metadata": {
        "colab": {
          "base_uri": "https://localhost:8080/"
        },
        "id": "zvPDCQ6rnrBQ",
        "outputId": "30fcb70f-fc30-4c1a-9c21-d260f469e5bb"
      },
      "execution_count": 122,
      "outputs": [
        {
          "output_type": "execute_result",
          "data": {
            "text/plain": [
              "PropertyId                 0\n",
              "LastSaleAmount          2688\n",
              "LotSqFeet                  0\n",
              "LandValue                  0\n",
              "BuildingNo                 0\n",
              "YearBuilt                  0\n",
              "StoryHeight              387\n",
              "BuildingGrossAreaSF        0\n",
              "BuildingFinishedSf         0\n",
              "TotalRooms                 0\n",
              "Bedrooms                   0\n",
              "FullBaths                  0\n",
              "HalfBaths                  0\n",
              "ResidentialUnits        1195\n",
              "CommercialUnits        10438\n",
              "PhysicalCondition          0\n",
              "DepreciationPct            0\n",
              "dtype: int64"
            ]
          },
          "metadata": {},
          "execution_count": 122
        }
      ]
    },
    {
      "cell_type": "code",
      "source": [
        "#\n",
        "\n",
        "df_numerics_only['StoryHeight'] = df_numerics_only['StoryHeight'].fillna(1)\n",
        "df_numerics_only['ResidentialUnits'] =df_numerics_only['ResidentialUnits'].fillna(1)\n",
        "df_numerics_only['CommercialUnits'] =df_numerics_only['CommercialUnits'].fillna(1)\n",
        "df_numerics_only['ResidentialUnits']"
      ],
      "metadata": {
        "id": "c0yikT0Qn8zu",
        "colab": {
          "base_uri": "https://localhost:8080/"
        },
        "outputId": "c561d51e-60a8-44fc-abd0-b80fdf661d36"
      },
      "execution_count": 123,
      "outputs": [
        {
          "output_type": "execute_result",
          "data": {
            "text/plain": [
              "0         1.0\n",
              "1         1.0\n",
              "2         1.0\n",
              "3         2.0\n",
              "4         1.0\n",
              "         ... \n",
              "11403     1.0\n",
              "11404     1.0\n",
              "11405     1.0\n",
              "11406    44.0\n",
              "11407     1.0\n",
              "Name: ResidentialUnits, Length: 11408, dtype: float64"
            ]
          },
          "metadata": {},
          "execution_count": 123
        }
      ]
    },
    {
      "cell_type": "code",
      "source": [
        "df_numerics_only.mean()"
      ],
      "metadata": {
        "colab": {
          "base_uri": "https://localhost:8080/"
        },
        "id": "W0OOkzoJvQxb",
        "outputId": "abba6407-bf5e-4338-f522-91329f72b02e"
      },
      "execution_count": 124,
      "outputs": [
        {
          "output_type": "execute_result",
          "data": {
            "text/plain": [
              "PropertyId               5619.044968\n",
              "LastSaleAmount         454221.033097\n",
              "LotSqFeet               39399.466602\n",
              "LandValue              217904.988604\n",
              "BuildingNo                  1.112027\n",
              "YearBuilt                1880.528138\n",
              "StoryHeight                 1.725802\n",
              "BuildingGrossAreaSF      5750.646476\n",
              "BuildingFinishedSf       3478.175403\n",
              "TotalRooms                  5.832311\n",
              "Bedrooms                    2.818548\n",
              "FullBaths                   2.264288\n",
              "HalfBaths                   0.633065\n",
              "ResidentialUnits            2.174264\n",
              "CommercialUnits             1.433292\n",
              "PhysicalCondition           3.686360\n",
              "DepreciationPct            25.297557\n",
              "dtype: float64"
            ]
          },
          "metadata": {},
          "execution_count": 124
        }
      ]
    },
    {
      "cell_type": "code",
      "source": [
        "#filling nans with the average\n",
        "df_numerics_only['LastSaleAmount'] = df_numerics_only['LastSaleAmount'].fillna(454221)"
      ],
      "metadata": {
        "id": "JS6rH7M5tdo0"
      },
      "execution_count": 125,
      "outputs": []
    },
    {
      "cell_type": "code",
      "source": [
        "#building model inputs\n",
        "Y = df['BuildingValue']\n",
        "X = df_numerics_only\n",
        "X_train, X_test, Y_train, Y_test = train_test_split(X, Y, test_size=0.3)\n",
        "X_test=np.array(X_test)\n",
        "X_test=np.array(X_test)"
      ],
      "metadata": {
        "id": "iQDqH4x4qhT3"
      },
      "execution_count": 126,
      "outputs": []
    },
    {
      "cell_type": "code",
      "source": [
        "df_numerics_only['LastSaleAmount']"
      ],
      "metadata": {
        "colab": {
          "base_uri": "https://localhost:8080/"
        },
        "id": "eFSOkU4kuiL2",
        "outputId": "83964d41-8629-4687-9857-e562d972c432"
      },
      "execution_count": 127,
      "outputs": [
        {
          "output_type": "execute_result",
          "data": {
            "text/plain": [
              "0         454221.0\n",
              "1          16255.0\n",
              "2         454221.0\n",
              "3         454221.0\n",
              "4         454221.0\n",
              "           ...    \n",
              "11403     175000.0\n",
              "11404     175000.0\n",
              "11405      76000.0\n",
              "11406    1000000.0\n",
              "11407     500000.0\n",
              "Name: LastSaleAmount, Length: 11408, dtype: float64"
            ]
          },
          "metadata": {},
          "execution_count": 127
        }
      ]
    },
    {
      "cell_type": "code",
      "source": [
        "df['BuildingValue']"
      ],
      "metadata": {
        "colab": {
          "base_uri": "https://localhost:8080/"
        },
        "id": "-U3RSbmWxKR2",
        "outputId": "14379108-6c32-42ef-e80d-4b0adce42e83"
      },
      "execution_count": 128,
      "outputs": [
        {
          "output_type": "execute_result",
          "data": {
            "text/plain": [
              "0        1425800.0\n",
              "1              0.0\n",
              "2         182600.0\n",
              "3         345500.0\n",
              "4         217600.0\n",
              "           ...    \n",
              "11403      83500.0\n",
              "11404      83500.0\n",
              "11405      59400.0\n",
              "11406     536200.0\n",
              "11407     468400.0\n",
              "Name: BuildingValue, Length: 11408, dtype: float64"
            ]
          },
          "metadata": {},
          "execution_count": 128
        }
      ]
    },
    {
      "cell_type": "code",
      "source": [
        "#SGD Regressor\n",
        "n_iter=1000\n",
        "clf_ = SGDRegressor(max_iter=n_iter)\n",
        "#clf = KNeighborsRegressor(n_neighbors=1)\n",
        "#clf = LinearRegression()\n",
        "clf_.fit(X_train.values, Y_train.values)\n",
        "\n",
        "y_pred_sksgd=clf_.predict(X_test)\n",
        "plt.scatter(Y_test,y_pred_sksgd)\n",
        "plt.grid()\n",
        "plt.xlabel('Actual y')\n",
        "plt.ylabel('Predicted y')\n",
        "plt.title('Scatter plot from actual y and predicted y')\n",
        "plt.show()\n",
        "\n",
        "print('Mean Absolute percentage Error :',mean_absolute_percentage_error(Y_test, y_pred_sksgd))\n",
        "print('Mean Absolute Error :',mean_absolute_error(Y_test, y_pred_sksgd))\n",
        "print('r2 score is :', r2_score(Y_test, y_pred_sksgd))\n",
        "print('y is:', Y_test)\n",
        "print('predicted was:', y_pred_sksgd)"
      ],
      "metadata": {
        "colab": {
          "base_uri": "https://localhost:8080/",
          "height": 590
        },
        "id": "uu1IwvcGh8Q-",
        "outputId": "9142b653-5e9c-4862-dce4-d960abf6c6cf"
      },
      "execution_count": 129,
      "outputs": [
        {
          "output_type": "display_data",
          "data": {
            "text/plain": [
              "<Figure size 432x288 with 1 Axes>"
            ],
            "image/png": "[encoded data removed]"
          },
          "metadata": {
            "needs_background": "light"
          }
        },
        {
          "output_type": "stream",
          "name": "stdout",
          "text": [
            "Mean Absolute percentage Error : 3.5122918627444455e+34\n",
            "Mean Absolute Error : 6.7856130149414e+19\n",
            "r2 score is : -1.4121106376221224e+26\n",
            "y is: 4976     223900.0\n",
            "4462     320600.0\n",
            "2817    6585900.0\n",
            "2442    7840600.0\n",
            "9346    1466800.0\n",
            "          ...    \n",
            "8549     284500.0\n",
            "9483     337500.0\n",
            "1430    1096000.0\n",
            "3020     407500.0\n",
            "8247     203100.0\n",
            "Name: BuildingValue, Length: 3423, dtype: float64\n",
            "predicted was: [ 1.47447858e+19  4.37917125e+19  2.47899590e+20 ... -1.60594701e+19\n",
            "  4.65784875e+19  1.86310273e+19]\n"
          ]
        }
      ]
    },
    {
      "cell_type": "code",
      "source": [
        ""
      ],
      "metadata": {
        "id": "xif72EbOqUC4"
      },
      "execution_count": 129,
      "outputs": []
    },
    {
      "cell_type": "markdown",
      "source": [
        "#Data Exploration"
      ],
      "metadata": {
        "id": "pBYyxh3lWcr4"
      }
    },
    {
      "cell_type": "code",
      "source": [
        "#correleation matrix\n",
        "corrdata = df_numerics_only\n",
        "corrdata['BuildingValue'] = df['BuildingValue']\n",
        "\n",
        "corr = corrdata.corr()\n",
        "sns.heatmap(corr)"
      ],
      "metadata": {
        "colab": {
          "base_uri": "https://localhost:8080/",
          "height": 380
        },
        "id": "H08zPWsiWiG2",
        "outputId": "9f1efddc-8cf1-4cf4-a77e-58352bc27886"
      },
      "execution_count": 130,
      "outputs": [
        {
          "output_type": "execute_result",
          "data": {
            "text/plain": [
              "<matplotlib.axes._subplots.AxesSubplot at 0x7f1e9b02bc10>"
            ]
          },
          "metadata": {},
          "execution_count": 130
        },
        {
          "output_type": "display_data",
          "data": {
            "text/plain": [
              "<Figure size 432x288 with 2 Axes>"
            ],
            "image/png": "[encoded data removed]"
          },
          "metadata": {
            "needs_background": "light"
          }
        }
      ]
    },
    {
      "cell_type": "code",
      "source": [
        "cor_target = abs(corr[\"BuildingValue\"])\n",
        "#Selecting 5 highly correlated features\n",
        "relevant_features = cor_target[cor_target>0.33]\n",
        "relevant_features\n",
        "#buildingno, grossarea, finishedsf, half baths\n",
        "#features chosen for the best correleation to the target variable "
      ],
      "metadata": {
        "colab": {
          "base_uri": "https://localhost:8080/"
        },
        "id": "OMKMwAcS7ita",
        "outputId": "499c74af-6899-4a2a-c800-f758fc9e8120"
      },
      "execution_count": 135,
      "outputs": [
        {
          "output_type": "execute_result",
          "data": {
            "text/plain": [
              "BuildingNo             0.403770\n",
              "BuildingGrossAreaSF    0.459051\n",
              "BuildingFinishedSf     0.458151\n",
              "HalfBaths              0.387801\n",
              "BuildingValue          1.000000\n",
              "Name: BuildingValue, dtype: float64"
            ]
          },
          "metadata": {},
          "execution_count": 135
        }
      ]
    },
    {
      "cell_type": "markdown",
      "source": [
        "# Model with selected features"
      ],
      "metadata": {
        "id": "gDA8-pnO_tyv"
      }
    },
    {
      "cell_type": "code",
      "source": [
        "X = df_numerics_only[['BuildingNo', 'BuildingGrossAreaSF', 'HalfBaths', 'BuildingFinishedSf']]"
      ],
      "metadata": {
        "id": "oCp8Tqj4_0gT"
      },
      "execution_count": 140,
      "outputs": []
    },
    {
      "cell_type": "code",
      "source": [
        "X_train, X_test, Y_train, Y_test = train_test_split(X, Y, test_size=0.3)\n",
        "X_test=np.array(X_test)\n",
        "X_test=np.array(X_test)"
      ],
      "metadata": {
        "id": "W4orLFA3A7fN"
      },
      "execution_count": 143,
      "outputs": []
    },
    {
      "cell_type": "code",
      "source": [
        "#SGD Regressor\n",
        "n_iter=1000\n",
        "clf_ = SGDRegressor(max_iter=n_iter)\n",
        "#clf = KNeighborsRegressor(n_neighbors=1)\n",
        "#clf = LinearRegression()\n",
        "clf_.fit(X_train.values, Y_train.values)\n",
        "\n",
        "y_pred_sksgd=clf_.predict(X_test)\n",
        "plt.scatter(Y_test,y_pred_sksgd)\n",
        "plt.grid()\n",
        "plt.xlabel('Actual y')\n",
        "plt.ylabel('Predicted y')\n",
        "plt.title('Scatter plot from actual y and predicted y')\n",
        "plt.show()\n",
        "\n",
        "print('Mean Absolute percentage Error :',mean_absolute_percentage_error(Y_test, y_pred_sksgd))\n",
        "print('Mean Absolute Error :',mean_absolute_error(Y_test, y_pred_sksgd))\n",
        "print('r2 score is :', r2_score(Y_test, y_pred_sksgd))\n",
        "print('y is:', Y_test)\n",
        "print('predicted was:', y_pred_sksgd)"
      ],
      "metadata": {
        "colab": {
          "base_uri": "https://localhost:8080/",
          "height": 590
        },
        "id": "EvZw0JrGBDnN",
        "outputId": "cd4c02ba-dd92-4857-d092-2eb7bffedba4"
      },
      "execution_count": 144,
      "outputs": [
        {
          "output_type": "display_data",
          "data": {
            "text/plain": [
              "<Figure size 432x288 with 1 Axes>"
            ],
            "image/png": "[encoded data removed]"
          },
          "metadata": {
            "needs_background": "light"
          }
        },
        {
          "output_type": "stream",
          "name": "stdout",
          "text": [
            "Mean Absolute percentage Error : 4.7682952452631493e+30\n",
            "Mean Absolute Error : 1.2051720911628878e+17\n",
            "r2 score is : -2.2593984300292204e+20\n",
            "y is: 715      227000.0\n",
            "1071     882200.0\n",
            "8668     242100.0\n",
            "4450     200700.0\n",
            "8268     215300.0\n",
            "           ...   \n",
            "4269     203600.0\n",
            "1426     214900.0\n",
            "10752    358600.0\n",
            "5539     197300.0\n",
            "3039     336600.0\n",
            "Name: BuildingValue, Length: 3423, dtype: float64\n",
            "predicted was: [-6.34387365e+16 -2.26681690e+17 -1.22642939e+17 ... -7.17107935e+16\n",
            " -3.87964982e+16 -7.21187127e+16]\n"
          ]
        }
      ]
    },
    {
      "cell_type": "markdown",
      "source": [
        ""
      ],
      "metadata": {
        "id": "lLz6Z2j-A561"
      }
    }
  ]
}